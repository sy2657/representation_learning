{
  "nbformat": 4,
  "nbformat_minor": 0,
  "metadata": {
    "colab": {
      "name": "deep_learning_gluon2.ipynb",
      "provenance": [],
      "collapsed_sections": []
    },
    "kernelspec": {
      "name": "python3",
      "display_name": "Python 3"
    }
  },
  "cells": [
    {
      "cell_type": "code",
      "metadata": {
        "id": "RmOlKjR2UfQG",
        "colab_type": "code",
        "outputId": "4814de6d-4550-417f-f1b9-ef24fea19217",
        "colab": {
          "base_uri": "https://localhost:8080/",
          "height": 321
        }
      },
      "source": [
        "!pip install mxnet\n",
        "#pip install gluonts"
      ],
      "execution_count": 2,
      "outputs": [
        {
          "output_type": "stream",
          "text": [
            "Collecting mxnet\n",
            "\u001b[?25l  Downloading https://files.pythonhosted.org/packages/81/f5/d79b5b40735086ff1100c680703e0f3efc830fa455e268e9e96f3c857e93/mxnet-1.6.0-py2.py3-none-any.whl (68.7MB)\n",
            "\u001b[K     |████████████████████████████████| 68.7MB 62kB/s \n",
            "\u001b[?25hRequirement already satisfied: numpy<2.0.0,>1.16.0 in /usr/local/lib/python3.6/dist-packages (from mxnet) (1.18.2)\n",
            "Collecting graphviz<0.9.0,>=0.8.1\n",
            "  Downloading https://files.pythonhosted.org/packages/53/39/4ab213673844e0c004bed8a0781a0721a3f6bb23eb8854ee75c236428892/graphviz-0.8.4-py2.py3-none-any.whl\n",
            "Requirement already satisfied: requests<3,>=2.20.0 in /usr/local/lib/python3.6/dist-packages (from mxnet) (2.21.0)\n",
            "Requirement already satisfied: idna<2.9,>=2.5 in /usr/local/lib/python3.6/dist-packages (from requests<3,>=2.20.0->mxnet) (2.8)\n",
            "Requirement already satisfied: chardet<3.1.0,>=3.0.2 in /usr/local/lib/python3.6/dist-packages (from requests<3,>=2.20.0->mxnet) (3.0.4)\n",
            "Requirement already satisfied: urllib3<1.25,>=1.21.1 in /usr/local/lib/python3.6/dist-packages (from requests<3,>=2.20.0->mxnet) (1.24.3)\n",
            "Requirement already satisfied: certifi>=2017.4.17 in /usr/local/lib/python3.6/dist-packages (from requests<3,>=2.20.0->mxnet) (2020.4.5.1)\n",
            "Installing collected packages: graphviz, mxnet\n",
            "  Found existing installation: graphviz 0.10.1\n",
            "    Uninstalling graphviz-0.10.1:\n",
            "      Successfully uninstalled graphviz-0.10.1\n",
            "Successfully installed graphviz-0.8.4 mxnet-1.6.0\n"
          ],
          "name": "stdout"
        }
      ]
    },
    {
      "cell_type": "code",
      "metadata": {
        "id": "48TZIpOjh64v",
        "colab_type": "code",
        "colab": {}
      },
      "source": [
        "#import gluonts\n",
        "import mxnet"
      ],
      "execution_count": 0,
      "outputs": []
    },
    {
      "cell_type": "code",
      "metadata": {
        "id": "r1fSU9E13fR5",
        "colab_type": "code",
        "outputId": "cf51cdad-0017-47f5-d609-fd516140665b",
        "colab": {
          "base_uri": "https://localhost:8080/",
          "height": 125
        }
      },
      "source": [
        "from google.colab import drive\n",
        "drive.mount('/content/gdrive')"
      ],
      "execution_count": 5,
      "outputs": [
        {
          "output_type": "stream",
          "text": [
            "Go to this URL in a browser: https://accounts.google.com/o/oauth2/auth?client_id=947318989803-6bn6qk8qdgf4n4g3pfee6491hc0brc4i.apps.googleusercontent.com&redirect_uri=urn%3aietf%3awg%3aoauth%3a2.0%3aoob&response_type=code&scope=email%20https%3a%2f%2fwww.googleapis.com%2fauth%2fdocs.test%20https%3a%2f%2fwww.googleapis.com%2fauth%2fdrive%20https%3a%2f%2fwww.googleapis.com%2fauth%2fdrive.photos.readonly%20https%3a%2f%2fwww.googleapis.com%2fauth%2fpeopleapi.readonly\n",
            "\n",
            "Enter your authorization code:\n",
            "··········\n",
            "Mounted at /content/gdrive\n"
          ],
          "name": "stdout"
        }
      ]
    },
    {
      "cell_type": "code",
      "metadata": {
        "id": "5Vp7Bfqp336U",
        "colab_type": "code",
        "outputId": "eb6b232b-e04b-4068-9b80-1c019ac61ca9",
        "colab": {
          "base_uri": "https://localhost:8080/",
          "height": 34
        }
      },
      "source": [
        "%cd '/content/gdrive/My Drive'\n"
      ],
      "execution_count": 1,
      "outputs": [
        {
          "output_type": "stream",
          "text": [
            "/content/gdrive/My Drive\n"
          ],
          "name": "stdout"
        }
      ]
    },
    {
      "cell_type": "code",
      "metadata": {
        "id": "Xaqn7a_14Fja",
        "colab_type": "code",
        "colab": {}
      },
      "source": [
        "import csv\n",
        "row_num = 0\n",
        "\n",
        "watts = []\n",
        "time_stamps =[]\n",
        "\n",
        "with open('CD_INTERVAL_READING_ALL_NO_QUOTES.csv', newline='') as csvfile:\n",
        "  reader = csv.reader(csvfile, delimiter=' ')\n",
        "  for row in reader:\n",
        "    row_num = row_num+1\n",
        "    #print(row[0])\n",
        "    sdata = row[1]\n",
        "    tsplit = sdata.split(',')\n",
        "    if row_num==1:\n",
        "      continue\n",
        "    #print(row[1])\n",
        "    #print(tsplit[3])\n",
        "    ntsplit = float(tsplit[3])\n",
        "    watts.append(ntsplit)\n",
        "    time_stamps.append(tsplit[0])\n",
        "    #print(row[2])\n",
        "    #print(row[3])\n",
        "    #print(row[4])\n",
        "    if row_num > 80000:\n",
        "      break"
      ],
      "execution_count": 0,
      "outputs": []
    },
    {
      "cell_type": "code",
      "metadata": {
        "id": "ZAjODMJmAPt2",
        "colab_type": "code",
        "colab": {}
      },
      "source": [
        "# step 1\n",
        "import pandas as pd\n",
        "caisofile= 'CaisoJan19March19windsolarAvg.csv'\n",
        "caiso_dataset = pd.read_csv(caisofile)"
      ],
      "execution_count": 0,
      "outputs": []
    },
    {
      "cell_type": "code",
      "metadata": {
        "id": "zyjvkm2SbtJG",
        "colab_type": "code",
        "colab": {}
      },
      "source": [
        "import pandas as pd \n",
        "newengland = 'NewEnglandNov19WindSolar.csv'\n",
        "neweng_dataset = pd.read_csv(newengland)"
      ],
      "execution_count": 0,
      "outputs": []
    },
    {
      "cell_type": "code",
      "metadata": {
        "id": "RfEXJw6pARN6",
        "colab_type": "code",
        "colab": {}
      },
      "source": [
        "# step 1 b\n",
        "#caiso_dataset=caiso_dataset.rename(columns={\"ws_forecast (avg) (california_iso)\": \"iso\"})\n",
        "\n",
        "# step 1 b\n",
        "neweng_dataset =neweng_dataset.rename(columns={\"ws_forecast (sum) (california_iso)\": \"iso\"})\n"
      ],
      "execution_count": 0,
      "outputs": []
    },
    {
      "cell_type": "code",
      "metadata": {
        "id": "TrZdHJI28G8p",
        "colab_type": "code",
        "colab": {
          "base_uri": "https://localhost:8080/",
          "height": 197
        },
        "outputId": "94ea2758-e442-4758-aa51-84de5841f5bf"
      },
      "source": [
        "neweng_dataset.head()\n",
        "#caiso_dataset.head()"
      ],
      "execution_count": 8,
      "outputs": [
        {
          "output_type": "execute_result",
          "data": {
            "text/html": [
              "<div>\n",
              "<style scoped>\n",
              "    .dataframe tbody tr th:only-of-type {\n",
              "        vertical-align: middle;\n",
              "    }\n",
              "\n",
              "    .dataframe tbody tr th {\n",
              "        vertical-align: top;\n",
              "    }\n",
              "\n",
              "    .dataframe thead th {\n",
              "        text-align: right;\n",
              "    }\n",
              "</style>\n",
              "<table border=\"1\" class=\"dataframe\">\n",
              "  <thead>\n",
              "    <tr style=\"text-align: right;\">\n",
              "      <th></th>\n",
              "      <th>DateTime</th>\n",
              "      <th>ws_forecast (sum) (california_iso)</th>\n",
              "    </tr>\n",
              "  </thead>\n",
              "  <tbody>\n",
              "    <tr>\n",
              "      <th>0</th>\n",
              "      <td>2019-11-01 00:00:00</td>\n",
              "      <td>-12</td>\n",
              "    </tr>\n",
              "    <tr>\n",
              "      <th>1</th>\n",
              "      <td>2019-11-01 01:00:00</td>\n",
              "      <td>-12</td>\n",
              "    </tr>\n",
              "    <tr>\n",
              "      <th>2</th>\n",
              "      <td>2019-11-01 02:00:00</td>\n",
              "      <td>-12</td>\n",
              "    </tr>\n",
              "    <tr>\n",
              "      <th>3</th>\n",
              "      <td>2019-11-01 03:00:00</td>\n",
              "      <td>-12</td>\n",
              "    </tr>\n",
              "    <tr>\n",
              "      <th>4</th>\n",
              "      <td>2019-11-01 04:00:00</td>\n",
              "      <td>-12</td>\n",
              "    </tr>\n",
              "  </tbody>\n",
              "</table>\n",
              "</div>"
            ],
            "text/plain": [
              "              DateTime  ws_forecast (sum) (california_iso)\n",
              "0  2019-11-01 00:00:00                                 -12\n",
              "1  2019-11-01 01:00:00                                 -12\n",
              "2  2019-11-01 02:00:00                                 -12\n",
              "3  2019-11-01 03:00:00                                 -12\n",
              "4  2019-11-01 04:00:00                                 -12"
            ]
          },
          "metadata": {
            "tags": []
          },
          "execution_count": 8
        }
      ]
    },
    {
      "cell_type": "code",
      "metadata": {
        "id": "cKf1Tdrjpkh5",
        "colab_type": "code",
        "colab": {}
      },
      "source": [
        "neweng_array = neweng_dataset['iso']"
      ],
      "execution_count": 0,
      "outputs": []
    },
    {
      "cell_type": "code",
      "metadata": {
        "id": "FZTPDXxRqoT2",
        "colab_type": "code",
        "colab": {
          "base_uri": "https://localhost:8080/",
          "height": 34
        },
        "outputId": "5112a8c5-aa35-4cc7-c6e7-6a437f352627"
      },
      "source": [
        "np.max(neweng_array)"
      ],
      "execution_count": 40,
      "outputs": [
        {
          "output_type": "execute_result",
          "data": {
            "text/plain": [
              "8542"
            ]
          },
          "metadata": {
            "tags": []
          },
          "execution_count": 40
        }
      ]
    },
    {
      "cell_type": "code",
      "metadata": {
        "id": "vhzomMNBpnVA",
        "colab_type": "code",
        "colab": {}
      },
      "source": [
        "normalized_neweng = neweng_dataset\n",
        "# normalize new eng dataframe\n",
        "ne_max = neweng_dataset['iso'].max()\n",
        "#print(ne_max)\n",
        "ne_min = neweng_dataset['iso'].min()\n",
        "normalized_neweng['iso'] = (neweng_dataset['iso'] - ne_min)/(ne_max - ne_min)\n"
      ],
      "execution_count": 0,
      "outputs": []
    },
    {
      "cell_type": "code",
      "metadata": {
        "id": "Uav4YEAFrRSd",
        "colab_type": "code",
        "colab": {
          "base_uri": "https://localhost:8080/",
          "height": 197
        },
        "outputId": "cfb31975-f3af-4d7d-9283-179db7c264fa"
      },
      "source": [
        "normalized_neweng.tail()"
      ],
      "execution_count": 10,
      "outputs": [
        {
          "output_type": "execute_result",
          "data": {
            "text/html": [
              "<div>\n",
              "<style scoped>\n",
              "    .dataframe tbody tr th:only-of-type {\n",
              "        vertical-align: middle;\n",
              "    }\n",
              "\n",
              "    .dataframe tbody tr th {\n",
              "        vertical-align: top;\n",
              "    }\n",
              "\n",
              "    .dataframe thead th {\n",
              "        text-align: right;\n",
              "    }\n",
              "</style>\n",
              "<table border=\"1\" class=\"dataframe\">\n",
              "  <thead>\n",
              "    <tr style=\"text-align: right;\">\n",
              "      <th></th>\n",
              "      <th>DateTime</th>\n",
              "      <th>iso</th>\n",
              "    </tr>\n",
              "  </thead>\n",
              "  <tbody>\n",
              "    <tr>\n",
              "      <th>669</th>\n",
              "      <td>2019-11-29 19:00:00</td>\n",
              "      <td>0.008782</td>\n",
              "    </tr>\n",
              "    <tr>\n",
              "      <th>670</th>\n",
              "      <td>2019-11-29 20:00:00</td>\n",
              "      <td>0.008782</td>\n",
              "    </tr>\n",
              "    <tr>\n",
              "      <th>671</th>\n",
              "      <td>2019-11-29 21:00:00</td>\n",
              "      <td>0.008782</td>\n",
              "    </tr>\n",
              "    <tr>\n",
              "      <th>672</th>\n",
              "      <td>2019-11-29 22:00:00</td>\n",
              "      <td>0.008782</td>\n",
              "    </tr>\n",
              "    <tr>\n",
              "      <th>673</th>\n",
              "      <td>2019-11-29 23:00:00</td>\n",
              "      <td>0.008782</td>\n",
              "    </tr>\n",
              "  </tbody>\n",
              "</table>\n",
              "</div>"
            ],
            "text/plain": [
              "                DateTime       iso\n",
              "669  2019-11-29 19:00:00  0.008782\n",
              "670  2019-11-29 20:00:00  0.008782\n",
              "671  2019-11-29 21:00:00  0.008782\n",
              "672  2019-11-29 22:00:00  0.008782\n",
              "673  2019-11-29 23:00:00  0.008782"
            ]
          },
          "metadata": {
            "tags": []
          },
          "execution_count": 10
        }
      ]
    },
    {
      "cell_type": "code",
      "metadata": {
        "id": "rfPASWPZDRkL",
        "colab_type": "code",
        "colab": {}
      },
      "source": [
        "# step 1 c\n",
        "from gluonts.dataset.common import ListDataset\n",
        "\n",
        "training_data_caiso = ListDataset(\n",
        "    [{\"start\": \"2019-01-01 00:00:00\" , \"target\": caiso_dataset.iso.values}],\n",
        "    freq = \"1H\"\n",
        ")"
      ],
      "execution_count": 0,
      "outputs": []
    },
    {
      "cell_type": "code",
      "metadata": {
        "id": "L--vh9YfBMeI",
        "colab_type": "code",
        "colab": {}
      },
      "source": [
        "from gluonts.dataset.common import ListDataset\n",
        "training_data_neweng = ListDataset([{\"start\":\"2019-11-01 00:00:00\", \"target\": neweng_dataset.iso.values\n",
        "                                     }], freq = \"1H\")\n",
        "\n",
        "norm_training_data_neweng = ListDataset([{\"start\":\"2019-11-01 00:00:00\", \"target\": normalized_neweng.iso.values\n",
        "                                     }], freq = \"1H\")"
      ],
      "execution_count": 0,
      "outputs": []
    },
    {
      "cell_type": "code",
      "metadata": {
        "id": "DlbuYy4Wk8r0",
        "colab_type": "code",
        "colab": {
          "base_uri": "https://localhost:8080/",
          "height": 197
        },
        "outputId": "ed496f1a-73ee-46db-b242-1bdb8bd12776"
      },
      "source": [
        "# new eng test dataset\n",
        "test_NE = neweng_dataset[100:150]\n",
        "\n",
        "test_NE.head()\n",
        "\n",
        "norm_test_NE = normalized_neweng[100:160]\n",
        "\n",
        "norm_test_NE.head()\n",
        "\n",
        "# shorter sequence\n",
        "\n",
        "# longer sequence"
      ],
      "execution_count": 8,
      "outputs": [
        {
          "output_type": "execute_result",
          "data": {
            "text/html": [
              "<div>\n",
              "<style scoped>\n",
              "    .dataframe tbody tr th:only-of-type {\n",
              "        vertical-align: middle;\n",
              "    }\n",
              "\n",
              "    .dataframe tbody tr th {\n",
              "        vertical-align: top;\n",
              "    }\n",
              "\n",
              "    .dataframe thead th {\n",
              "        text-align: right;\n",
              "    }\n",
              "</style>\n",
              "<table border=\"1\" class=\"dataframe\">\n",
              "  <thead>\n",
              "    <tr style=\"text-align: right;\">\n",
              "      <th></th>\n",
              "      <th>DateTime</th>\n",
              "      <th>iso</th>\n",
              "    </tr>\n",
              "  </thead>\n",
              "  <tbody>\n",
              "    <tr>\n",
              "      <th>100</th>\n",
              "      <td>2019-11-05 17:00:00</td>\n",
              "      <td>0.008898</td>\n",
              "    </tr>\n",
              "    <tr>\n",
              "      <th>101</th>\n",
              "      <td>2019-11-05 18:00:00</td>\n",
              "      <td>0.008667</td>\n",
              "    </tr>\n",
              "    <tr>\n",
              "      <th>102</th>\n",
              "      <td>2019-11-05 19:00:00</td>\n",
              "      <td>0.008667</td>\n",
              "    </tr>\n",
              "    <tr>\n",
              "      <th>103</th>\n",
              "      <td>2019-11-05 20:00:00</td>\n",
              "      <td>0.008667</td>\n",
              "    </tr>\n",
              "    <tr>\n",
              "      <th>104</th>\n",
              "      <td>2019-11-05 21:00:00</td>\n",
              "      <td>0.008667</td>\n",
              "    </tr>\n",
              "  </tbody>\n",
              "</table>\n",
              "</div>"
            ],
            "text/plain": [
              "                DateTime       iso\n",
              "100  2019-11-05 17:00:00  0.008898\n",
              "101  2019-11-05 18:00:00  0.008667\n",
              "102  2019-11-05 19:00:00  0.008667\n",
              "103  2019-11-05 20:00:00  0.008667\n",
              "104  2019-11-05 21:00:00  0.008667"
            ]
          },
          "metadata": {
            "tags": []
          },
          "execution_count": 8
        }
      ]
    },
    {
      "cell_type": "code",
      "metadata": {
        "id": "hWlxQVA1lNN2",
        "colab_type": "code",
        "colab": {}
      },
      "source": [
        "# new england test dataset listdataset\n",
        "test_NE_dataset = ListDataset(\n",
        "    [{\"start\": \"2019-11-05 17:00:00\" , \"target\": test_NE.iso.values}],\n",
        "    freq = \"1H\"\n",
        ")\n",
        "\n",
        "norm_test_NE_dataset = ListDataset(\n",
        "    [{\"start\": \"2019-11-05 17:00:00\" , \"target\": norm_test_NE.iso.values}],\n",
        "    freq = \"1H\"\n",
        ")"
      ],
      "execution_count": 0,
      "outputs": []
    },
    {
      "cell_type": "code",
      "metadata": {
        "id": "L-pSAT21T43J",
        "colab_type": "code",
        "colab": {}
      },
      "source": [
        "caiso_array = caiso_dataset['iso']"
      ],
      "execution_count": 0,
      "outputs": []
    },
    {
      "cell_type": "code",
      "metadata": {
        "id": "eE8k8tPyT9fq",
        "colab_type": "code",
        "colab": {
          "base_uri": "https://localhost:8080/",
          "height": 168
        },
        "outputId": "b84b4ec5-3468-4f1b-cf85-1ad434cc9bd5"
      },
      "source": [
        "caiso_array[1]"
      ],
      "execution_count": 3,
      "outputs": [
        {
          "output_type": "error",
          "ename": "NameError",
          "evalue": "ignored",
          "traceback": [
            "\u001b[0;31m---------------------------------------------------------------------------\u001b[0m",
            "\u001b[0;31mNameError\u001b[0m                                 Traceback (most recent call last)",
            "\u001b[0;32m<ipython-input-3-45c6e9b7f1ab>\u001b[0m in \u001b[0;36m<module>\u001b[0;34m()\u001b[0m\n\u001b[0;32m----> 1\u001b[0;31m \u001b[0mcaiso_array\u001b[0m\u001b[0;34m[\u001b[0m\u001b[0;36m1\u001b[0m\u001b[0;34m]\u001b[0m\u001b[0;34m\u001b[0m\u001b[0;34m\u001b[0m\u001b[0m\n\u001b[0m",
            "\u001b[0;31mNameError\u001b[0m: name 'caiso_array' is not defined"
          ]
        }
      ]
    },
    {
      "cell_type": "markdown",
      "metadata": {
        "id": "f5I4adAvLT59",
        "colab_type": "text"
      },
      "source": [
        "pd random sampling rows: https://www.geeksforgeeks.org/how-to-randomly-select-rows-from-pandas-dataframe/\n"
      ]
    },
    {
      "cell_type": "code",
      "metadata": {
        "id": "t2Al0ntmHwLj",
        "colab_type": "code",
        "colab": {}
      },
      "source": [
        "# step 1 d\n",
        "\n",
        "# make a new dataframe for testing data ? \n",
        "\n",
        "# sample method 0: random; \n",
        "test_caiso_1 = caiso_dataset.sample(n = 30)  \n",
        "\n",
        "# sample method 1 : sample every k rows; sample n cons. rows every k rows\n",
        "k = 3\n",
        "test_caiso_2 = caiso_dataset.iloc[::k, :]\n",
        "\n",
        "test_caiso_3 = caiso_dataset[2:32]\n",
        "\n",
        "train_caiso_2 = caiso_dataset[10:100]\n",
        "\n",
        "# sample method 2: seasons / hour of day\n",
        "\n",
        "# sample method 3: based on paper\n",
        "\n",
        "# testing_data_caiso = ListDataset()"
      ],
      "execution_count": 0,
      "outputs": []
    },
    {
      "cell_type": "code",
      "metadata": {
        "id": "YXOaY2-VkxT5",
        "colab_type": "code",
        "colab": {}
      },
      "source": [
        "train_caiso_2.head()\n",
        "\n",
        "training_data_caiso2 = ListDataset(\n",
        "    [{\"start\": \"2019-01-01 10:00:00\" , \"target\": train_caiso_2.iso.values}],\n",
        "    freq = \"1H\"\n",
        ")"
      ],
      "execution_count": 0,
      "outputs": []
    },
    {
      "cell_type": "code",
      "metadata": {
        "id": "-b9luIEHb6uF",
        "colab_type": "code",
        "colab": {
          "base_uri": "https://localhost:8080/",
          "height": 197
        },
        "outputId": "945b4a1f-a30a-44a3-e783-767288bd50cf"
      },
      "source": [
        "test_caiso_3.head()"
      ],
      "execution_count": 18,
      "outputs": [
        {
          "output_type": "execute_result",
          "data": {
            "text/html": [
              "<div>\n",
              "<style scoped>\n",
              "    .dataframe tbody tr th:only-of-type {\n",
              "        vertical-align: middle;\n",
              "    }\n",
              "\n",
              "    .dataframe tbody tr th {\n",
              "        vertical-align: top;\n",
              "    }\n",
              "\n",
              "    .dataframe thead th {\n",
              "        text-align: right;\n",
              "    }\n",
              "</style>\n",
              "<table border=\"1\" class=\"dataframe\">\n",
              "  <thead>\n",
              "    <tr style=\"text-align: right;\">\n",
              "      <th></th>\n",
              "      <th>DateTime</th>\n",
              "      <th>iso</th>\n",
              "    </tr>\n",
              "  </thead>\n",
              "  <tbody>\n",
              "    <tr>\n",
              "      <th>2</th>\n",
              "      <td>2019-01-01 02:00:00</td>\n",
              "      <td>-2.333</td>\n",
              "    </tr>\n",
              "    <tr>\n",
              "      <th>3</th>\n",
              "      <td>2019-01-01 03:00:00</td>\n",
              "      <td>-2.667</td>\n",
              "    </tr>\n",
              "    <tr>\n",
              "      <th>4</th>\n",
              "      <td>2019-01-01 04:00:00</td>\n",
              "      <td>-3.000</td>\n",
              "    </tr>\n",
              "    <tr>\n",
              "      <th>5</th>\n",
              "      <td>2019-01-01 05:00:00</td>\n",
              "      <td>-1.333</td>\n",
              "    </tr>\n",
              "    <tr>\n",
              "      <th>6</th>\n",
              "      <td>2019-01-01 06:00:00</td>\n",
              "      <td>1.000</td>\n",
              "    </tr>\n",
              "  </tbody>\n",
              "</table>\n",
              "</div>"
            ],
            "text/plain": [
              "              DateTime    iso\n",
              "2  2019-01-01 02:00:00 -2.333\n",
              "3  2019-01-01 03:00:00 -2.667\n",
              "4  2019-01-01 04:00:00 -3.000\n",
              "5  2019-01-01 05:00:00 -1.333\n",
              "6  2019-01-01 06:00:00  1.000"
            ]
          },
          "metadata": {
            "tags": []
          },
          "execution_count": 18
        }
      ]
    },
    {
      "cell_type": "code",
      "metadata": {
        "id": "IMbajN5MjImM",
        "colab_type": "code",
        "colab": {}
      },
      "source": [
        "# automatically extract first row timestamp"
      ],
      "execution_count": 0,
      "outputs": []
    },
    {
      "cell_type": "code",
      "metadata": {
        "id": "N5FsWJ_fW-Ac",
        "colab_type": "code",
        "colab": {
          "base_uri": "https://localhost:8080/",
          "height": 197
        },
        "outputId": "17a5eb80-11b3-4ce3-806c-567e512612be"
      },
      "source": [
        "test_caiso_2.head()"
      ],
      "execution_count": 11,
      "outputs": [
        {
          "output_type": "execute_result",
          "data": {
            "text/html": [
              "<div>\n",
              "<style scoped>\n",
              "    .dataframe tbody tr th:only-of-type {\n",
              "        vertical-align: middle;\n",
              "    }\n",
              "\n",
              "    .dataframe tbody tr th {\n",
              "        vertical-align: top;\n",
              "    }\n",
              "\n",
              "    .dataframe thead th {\n",
              "        text-align: right;\n",
              "    }\n",
              "</style>\n",
              "<table border=\"1\" class=\"dataframe\">\n",
              "  <thead>\n",
              "    <tr style=\"text-align: right;\">\n",
              "      <th></th>\n",
              "      <th>DateTime</th>\n",
              "      <th>iso</th>\n",
              "    </tr>\n",
              "  </thead>\n",
              "  <tbody>\n",
              "    <tr>\n",
              "      <th>0</th>\n",
              "      <td>2019-01-01 00:00:00</td>\n",
              "      <td>-2.333</td>\n",
              "    </tr>\n",
              "    <tr>\n",
              "      <th>3</th>\n",
              "      <td>2019-01-01 03:00:00</td>\n",
              "      <td>-2.667</td>\n",
              "    </tr>\n",
              "    <tr>\n",
              "      <th>6</th>\n",
              "      <td>2019-01-01 06:00:00</td>\n",
              "      <td>1.000</td>\n",
              "    </tr>\n",
              "    <tr>\n",
              "      <th>9</th>\n",
              "      <td>2019-01-01 09:00:00</td>\n",
              "      <td>2328.667</td>\n",
              "    </tr>\n",
              "    <tr>\n",
              "      <th>12</th>\n",
              "      <td>2019-01-01 12:00:00</td>\n",
              "      <td>2457.667</td>\n",
              "    </tr>\n",
              "  </tbody>\n",
              "</table>\n",
              "</div>"
            ],
            "text/plain": [
              "               DateTime       iso\n",
              "0   2019-01-01 00:00:00    -2.333\n",
              "3   2019-01-01 03:00:00    -2.667\n",
              "6   2019-01-01 06:00:00     1.000\n",
              "9   2019-01-01 09:00:00  2328.667\n",
              "12  2019-01-01 12:00:00  2457.667"
            ]
          },
          "metadata": {
            "tags": []
          },
          "execution_count": 11
        }
      ]
    },
    {
      "cell_type": "code",
      "metadata": {
        "id": "svPpg5n5GNvC",
        "colab_type": "code",
        "outputId": "37037f08-31ca-4cf7-d7f8-1ccc7bbadf60",
        "colab": {
          "base_uri": "https://localhost:8080/",
          "height": 197
        }
      },
      "source": [
        "# step 1 e\n",
        "test_caiso_1.head()"
      ],
      "execution_count": 10,
      "outputs": [
        {
          "output_type": "execute_result",
          "data": {
            "text/html": [
              "<div>\n",
              "<style scoped>\n",
              "    .dataframe tbody tr th:only-of-type {\n",
              "        vertical-align: middle;\n",
              "    }\n",
              "\n",
              "    .dataframe tbody tr th {\n",
              "        vertical-align: top;\n",
              "    }\n",
              "\n",
              "    .dataframe thead th {\n",
              "        text-align: right;\n",
              "    }\n",
              "</style>\n",
              "<table border=\"1\" class=\"dataframe\">\n",
              "  <thead>\n",
              "    <tr style=\"text-align: right;\">\n",
              "      <th></th>\n",
              "      <th>DateTime</th>\n",
              "      <th>iso</th>\n",
              "    </tr>\n",
              "  </thead>\n",
              "  <tbody>\n",
              "    <tr>\n",
              "      <th>897</th>\n",
              "      <td>2019-02-07 09:00:00</td>\n",
              "      <td>2721.000</td>\n",
              "    </tr>\n",
              "    <tr>\n",
              "      <th>1257</th>\n",
              "      <td>2019-02-22 10:00:00</td>\n",
              "      <td>2852.667</td>\n",
              "    </tr>\n",
              "    <tr>\n",
              "      <th>472</th>\n",
              "      <td>2019-01-20 16:00:00</td>\n",
              "      <td>229.000</td>\n",
              "    </tr>\n",
              "    <tr>\n",
              "      <th>239</th>\n",
              "      <td>2019-01-10 23:00:00</td>\n",
              "      <td>-5.667</td>\n",
              "    </tr>\n",
              "    <tr>\n",
              "      <th>373</th>\n",
              "      <td>2019-01-16 13:00:00</td>\n",
              "      <td>1213.667</td>\n",
              "    </tr>\n",
              "  </tbody>\n",
              "</table>\n",
              "</div>"
            ],
            "text/plain": [
              "                 DateTime       iso\n",
              "897   2019-02-07 09:00:00  2721.000\n",
              "1257  2019-02-22 10:00:00  2852.667\n",
              "472   2019-01-20 16:00:00   229.000\n",
              "239   2019-01-10 23:00:00    -5.667\n",
              "373   2019-01-16 13:00:00  1213.667"
            ]
          },
          "metadata": {
            "tags": []
          },
          "execution_count": 10
        }
      ]
    },
    {
      "cell_type": "code",
      "metadata": {
        "id": "LBlGnY-bGGRu",
        "colab_type": "code",
        "colab": {}
      },
      "source": [
        "# step 1 f \n",
        "test_caiso_1_dataset = ListDataset(\n",
        "    [{\"start\": \"2019-02-07 09:00:00\" , \"target\": test_caiso_1.iso.values}],\n",
        "    freq = \"1H\"\n",
        ")"
      ],
      "execution_count": 0,
      "outputs": []
    },
    {
      "cell_type": "code",
      "metadata": {
        "id": "5Q_c65Exesay",
        "colab_type": "code",
        "colab": {}
      },
      "source": [
        "test_caiso_3_dataset = ListDataset(\n",
        "    [{\"start\": \"2019-01-01 02:00:00\" , \"target\": test_caiso_3.iso.values}],\n",
        "    freq = \"1H\"\n",
        ")"
      ],
      "execution_count": 0,
      "outputs": []
    },
    {
      "cell_type": "code",
      "metadata": {
        "id": "LmjxUe6pBZxk",
        "colab_type": "code",
        "outputId": "71fd046e-b3e9-49f8-dfd1-48d51406f1d5",
        "colab": {
          "base_uri": "https://localhost:8080/",
          "height": 186
        }
      },
      "source": [
        "test_caiso_1 = caiso_dataset.sample(n = 300)  \n",
        "test_caiso_1 "
      ],
      "execution_count": 4,
      "outputs": [
        {
          "output_type": "error",
          "ename": "NameError",
          "evalue": "ignored",
          "traceback": [
            "\u001b[0;31m---------------------------------------------------------------------------\u001b[0m",
            "\u001b[0;31mNameError\u001b[0m                                 Traceback (most recent call last)",
            "\u001b[0;32m<ipython-input-4-b979965a4028>\u001b[0m in \u001b[0;36m<module>\u001b[0;34m()\u001b[0m\n\u001b[0;32m----> 1\u001b[0;31m \u001b[0mtest_caiso_1\u001b[0m \u001b[0;34m=\u001b[0m \u001b[0mcaiso_dataset\u001b[0m\u001b[0;34m.\u001b[0m\u001b[0msample\u001b[0m\u001b[0;34m(\u001b[0m\u001b[0mn\u001b[0m \u001b[0;34m=\u001b[0m \u001b[0;36m300\u001b[0m\u001b[0;34m)\u001b[0m\u001b[0;34m\u001b[0m\u001b[0;34m\u001b[0m\u001b[0m\n\u001b[0m\u001b[1;32m      2\u001b[0m \u001b[0mtest_caiso_1\u001b[0m\u001b[0;34m\u001b[0m\u001b[0;34m\u001b[0m\u001b[0m\n",
            "\u001b[0;31mNameError\u001b[0m: name 'caiso_dataset' is not defined"
          ]
        }
      ]
    },
    {
      "cell_type": "code",
      "metadata": {
        "id": "J-v0Hpx9MyfH",
        "colab_type": "code",
        "outputId": "7b0fa1a6-127d-4aca-c2c2-d01046debd69",
        "colab": {
          "base_uri": "https://localhost:8080/",
          "height": 34
        }
      },
      "source": [
        "#import numpy as np\n",
        "#np.random.randint(1, 8)\n",
        "a = [1,2,3,4,5,6,7,8,9,0]\n",
        "a[3:3+2]"
      ],
      "execution_count": 0,
      "outputs": [
        {
          "output_type": "execute_result",
          "data": {
            "text/plain": [
              "[4, 5]"
            ]
          },
          "metadata": {
            "tags": []
          },
          "execution_count": 11
        }
      ]
    },
    {
      "cell_type": "code",
      "metadata": {
        "id": "m5ayRf1wDbwH",
        "colab_type": "code",
        "colab": {}
      },
      "source": [
        "# orig sampling method from unsupervised rep learning\n",
        "def sampling1(y, N, K): # sequence y_i for i in 1 to N\n",
        "  # size of y\n",
        "  for i in range(1,N):\n",
        "    yi = y[i]\n",
        "    ysize = len(yi)\n",
        "    # pick sizes s_pos and s_ref - unif at random \n",
        "    spos = np.random.randint(1, ysize)\n",
        "    sref = np.random.randint(spos, ysize) \n",
        "    # pick xref, xpos \n",
        "    # pick starting index among 0 to (ysize - sref)\n",
        "    startref = np.random.randint(0, ysize - sref)\n",
        "    startpos = np.random.randint(0, ysize - spos)\n",
        "    xref = yi[startref:startref+sref]\n",
        "    xpos = yi[startpos:startpos+spos]\n",
        "    xneg= []\n",
        "    for k in range(1, K): \n",
        "      ik = np.random.randint(1, N)\n",
        "      sneg = np.random.randint(1,len(y[ik]))\n",
        "      # pick xneg\n",
        "      startneg = np.random.randint(0, ysize-sneg)\n",
        "      yk = y[k]\n",
        "      xneg_k = yk[startneg:sneg]\n",
        "      xneg.append(xneg_k)\n",
        "    return( xref, xpos, xneg)\n",
        "\n",
        "# sampling method var. 1: use different dist. other than uniform dist. to pick \n"
      ],
      "execution_count": 0,
      "outputs": []
    },
    {
      "cell_type": "code",
      "metadata": {
        "id": "URsp2qsr679_",
        "colab_type": "code",
        "colab": {}
      },
      "source": [
        "st = \"2019-01-23 04:00:00\"\n",
        "\n",
        "splitst = st.split()"
      ],
      "execution_count": 0,
      "outputs": []
    },
    {
      "cell_type": "code",
      "metadata": {
        "id": "PbhdyD3n7pUs",
        "colab_type": "code",
        "colab": {}
      },
      "source": [
        "s1 = splitst[1]\n",
        "ss1 = s1.split(\":\")"
      ],
      "execution_count": 0,
      "outputs": []
    },
    {
      "cell_type": "code",
      "metadata": {
        "id": "5Tq_mtq07x9Y",
        "colab_type": "code",
        "colab": {
          "base_uri": "https://localhost:8080/",
          "height": 34
        },
        "outputId": "c712e9c6-3e2d-4f05-b55b-7033836ae63d"
      },
      "source": [
        "ss1"
      ],
      "execution_count": 8,
      "outputs": [
        {
          "output_type": "execute_result",
          "data": {
            "text/plain": [
              "['04', '00', '00']"
            ]
          },
          "metadata": {
            "tags": []
          },
          "execution_count": 8
        }
      ]
    },
    {
      "cell_type": "code",
      "metadata": {
        "id": "HkRFnDbxuHCl",
        "colab_type": "code",
        "colab": {
          "base_uri": "https://localhost:8080/",
          "height": 34
        },
        "outputId": "2a40405e-d99f-485e-a262-458095065111"
      },
      "source": [
        "f = 4\n",
        "2 <= 3 <= 5"
      ],
      "execution_count": 3,
      "outputs": [
        {
          "output_type": "execute_result",
          "data": {
            "text/plain": [
              "True"
            ]
          },
          "metadata": {
            "tags": []
          },
          "execution_count": 3
        }
      ]
    },
    {
      "cell_type": "code",
      "metadata": {
        "id": "UPR7uFd1TxJc",
        "colab_type": "code",
        "colab": {}
      },
      "source": [
        "import pandas as pd\n",
        "sample_df = pd.DataFrame(columns=[\"date\", \"iso\"])\n",
        "#sample_df.append(\"2019-01-23 04:00:00\", 445)"
      ],
      "execution_count": 0,
      "outputs": []
    },
    {
      "cell_type": "code",
      "metadata": {
        "id": "L0TCNfwrUHCJ",
        "colab_type": "code",
        "colab": {}
      },
      "source": [
        "s_array= [3,4,5,6]\n",
        "sample_df[\"iso\"] = s_array"
      ],
      "execution_count": 0,
      "outputs": []
    },
    {
      "cell_type": "code",
      "metadata": {
        "id": "O-3CvezCkOtT",
        "colab_type": "code",
        "colab": {}
      },
      "source": [
        "# break the array into k sub-arrays : day of the week\n",
        "\n",
        "# hour of the day: morning 6 am to 12 pm, afternoon 12 pm to 6 pm, evening 6 pm to 12 am, early morning 12 am to 6 am \n",
        "\n",
        "colnames=[\"DateTime\", \"iso\"]\n",
        "# define empty dfs \n",
        "morningdf = pd.DataFrame(columns=colnames)\n",
        "afternoondf = pd.DataFrame(columns=colnames)\n",
        "eveningdf = pd.DataFrame(columns= colnames)\n",
        "earlymorningdf= pd.DataFrame(columns= colnames)\n",
        "\n",
        "morning_time = []\n",
        "morning_iso = []\n",
        "\n",
        "afternoon_time = []\n",
        "afternoon_iso = []\n",
        "\n",
        "evening_time = []\n",
        "evening_iso = []\n",
        "\n",
        "earlymorning_time = []\n",
        "earlymorning_iso = []\n",
        "\n",
        "for index, row in caiso_dataset.iterrows():\n",
        "    date_time = row['DateTime']\n",
        "    iso_val = row['iso']\n",
        "    split_date_time = split(date_time)\n",
        "    split_date_time1 = split_date_time[1]\n",
        "    hour_min_sec = split_date_time1.split(\":\")\n",
        "    hour= hour_min_sec[0]\n",
        "    minute = hour_min_sec[1]    \n",
        "    # determine zone\n",
        "    if 0 <= hour <= 6:\n",
        "      earlymorning_time.append(date_time)\n",
        "      earlymorning_iso.append(iso_val)\n",
        "    if 6 <= hour <=12:\n",
        "      morning_time.append(date_time)\n",
        "      morning_iso.append(iso_val)\n",
        "    if 12 <= hour <= 18:\n",
        "      afternoon_time.append(date_time)\n",
        "      afternoon_iso.append(iso_val)\n",
        "    if 18 <= hour <= 24:\n",
        "      evening_time.append(date_time)\n",
        "      evening_iso.append(iso_val)\n",
        "\n",
        "# set dataframes\n",
        "\n",
        "morningdf[\"DateTime\"] = morning_time\n",
        "morningdf[\"iso\"] = morning_iso\n",
        "earlymorningdf[\"DateTime\"] = earlymorning_time\n",
        "earlymorningdf[\"iso\"]=earlymorning_iso\n",
        "afternoondf[\"DateTime\"] = afternoon_time\n",
        "afternoondf[\"iso\"] = afternoon_iso\n",
        "eveningdf[\"DateTime\"] = evening_time\n",
        "eveningdf[\"iso\"] = evening_iso\n",
        "\n",
        "# use these as different series to draw xneg \n"
      ],
      "execution_count": 0,
      "outputs": []
    },
    {
      "cell_type": "code",
      "metadata": {
        "id": "IcA9zLzBdEZ1",
        "colab_type": "code",
        "colab": {}
      },
      "source": [
        "# extract the first timestamp from each series\n",
        "morning_first_ts = morning_time[0]\n",
        "earlymorning_first_ts= earlymorning_time[0]\n",
        "afternoon_first_ts = afternoon_time[0]\n",
        "evening_first_ts = evening_time[0]\n"
      ],
      "execution_count": 0,
      "outputs": []
    },
    {
      "cell_type": "code",
      "metadata": {
        "id": "lcsqRX-swMEl",
        "colab_type": "code",
        "colab": {}
      },
      "source": [
        "# google: visualizations in colab\n",
        "\n",
        "import seaborn as sns\n",
        "sns.set()\n"
      ],
      "execution_count": 0,
      "outputs": []
    },
    {
      "cell_type": "code",
      "metadata": {
        "id": "8fmae0-6lZQ3",
        "colab_type": "code",
        "colab": {}
      },
      "source": [
        "# break into subarrays based on feature "
      ],
      "execution_count": 0,
      "outputs": []
    },
    {
      "cell_type": "code",
      "metadata": {
        "id": "H_HhEQ8aSdES",
        "colab_type": "code",
        "colab": {
          "base_uri": "https://localhost:8080/",
          "height": 311
        },
        "outputId": "9e2d1c4a-9610-4a77-d1aa-02e4afb28f6b"
      },
      "source": [
        "# test the sampling\n",
        "\n",
        "xr, xp, xn = sampling1(caiso_array, 20, 5)"
      ],
      "execution_count": 12,
      "outputs": [
        {
          "output_type": "error",
          "ename": "TypeError",
          "evalue": "ignored",
          "traceback": [
            "\u001b[0;31m---------------------------------------------------------------------------\u001b[0m",
            "\u001b[0;31mTypeError\u001b[0m                                 Traceback (most recent call last)",
            "\u001b[0;32m<ipython-input-12-124a030c312e>\u001b[0m in \u001b[0;36m<module>\u001b[0;34m()\u001b[0m\n\u001b[1;32m      1\u001b[0m \u001b[0;34m\u001b[0m\u001b[0m\n\u001b[0;32m----> 2\u001b[0;31m \u001b[0mxr\u001b[0m\u001b[0;34m,\u001b[0m \u001b[0mxp\u001b[0m\u001b[0;34m,\u001b[0m \u001b[0mxn\u001b[0m \u001b[0;34m=\u001b[0m \u001b[0msampling1\u001b[0m\u001b[0;34m(\u001b[0m\u001b[0mcaiso_array\u001b[0m\u001b[0;34m,\u001b[0m \u001b[0;36m20\u001b[0m\u001b[0;34m,\u001b[0m \u001b[0;36m5\u001b[0m\u001b[0;34m)\u001b[0m\u001b[0;34m\u001b[0m\u001b[0;34m\u001b[0m\u001b[0m\n\u001b[0m",
            "\u001b[0;32m<ipython-input-11-c05421127acd>\u001b[0m in \u001b[0;36msampling1\u001b[0;34m(y, N, K)\u001b[0m\n\u001b[1;32m      3\u001b[0m   \u001b[0;32mfor\u001b[0m \u001b[0mi\u001b[0m \u001b[0;32min\u001b[0m \u001b[0mrange\u001b[0m\u001b[0;34m(\u001b[0m\u001b[0;36m1\u001b[0m\u001b[0;34m,\u001b[0m\u001b[0mN\u001b[0m\u001b[0;34m)\u001b[0m\u001b[0;34m:\u001b[0m\u001b[0;34m\u001b[0m\u001b[0;34m\u001b[0m\u001b[0m\n\u001b[1;32m      4\u001b[0m     \u001b[0myi\u001b[0m \u001b[0;34m=\u001b[0m \u001b[0my\u001b[0m\u001b[0;34m[\u001b[0m\u001b[0mi\u001b[0m\u001b[0;34m]\u001b[0m\u001b[0;34m\u001b[0m\u001b[0;34m\u001b[0m\u001b[0m\n\u001b[0;32m----> 5\u001b[0;31m     \u001b[0mysize\u001b[0m \u001b[0;34m=\u001b[0m \u001b[0mlen\u001b[0m\u001b[0;34m(\u001b[0m\u001b[0myi\u001b[0m\u001b[0;34m)\u001b[0m\u001b[0;34m\u001b[0m\u001b[0;34m\u001b[0m\u001b[0m\n\u001b[0m\u001b[1;32m      6\u001b[0m     \u001b[0;31m# pick sizes s_pos and s_ref - unif at random\u001b[0m\u001b[0;34m\u001b[0m\u001b[0;34m\u001b[0m\u001b[0;34m\u001b[0m\u001b[0m\n\u001b[1;32m      7\u001b[0m     \u001b[0mspos\u001b[0m \u001b[0;34m=\u001b[0m \u001b[0mnp\u001b[0m\u001b[0;34m.\u001b[0m\u001b[0mrandom\u001b[0m\u001b[0;34m.\u001b[0m\u001b[0mrandint\u001b[0m\u001b[0;34m(\u001b[0m\u001b[0;36m1\u001b[0m\u001b[0;34m,\u001b[0m \u001b[0mysize\u001b[0m\u001b[0;34m)\u001b[0m\u001b[0;34m\u001b[0m\u001b[0;34m\u001b[0m\u001b[0m\n",
            "\u001b[0;31mTypeError\u001b[0m: object of type 'numpy.float64' has no len()"
          ]
        }
      ]
    },
    {
      "cell_type": "code",
      "metadata": {
        "id": "LVnTemFaOTz_",
        "colab_type": "code",
        "colab": {}
      },
      "source": [
        "import pandas as pd\n",
        "# dataframe that holds ref, pos, and neg\n",
        "\n",
        "# create df with col names\n",
        "column_names = [\"xref\",\"xpos\",\"xneg\"]\n",
        "triplet_dataframe = pd.DataFrame(columns = column_names)\n"
      ],
      "execution_count": 0,
      "outputs": []
    },
    {
      "cell_type": "code",
      "metadata": {
        "id": "XGIvhvhDBUTx",
        "colab_type": "code",
        "outputId": "61be0b27-d9fd-4f77-f30d-42a9613e3ae4",
        "colab": {
          "base_uri": "https://localhost:8080/",
          "height": 168
        }
      },
      "source": [
        "caiso_dataset.head()"
      ],
      "execution_count": 0,
      "outputs": [
        {
          "output_type": "error",
          "ename": "NameError",
          "evalue": "ignored",
          "traceback": [
            "\u001b[0;31m---------------------------------------------------------------------------\u001b[0m",
            "\u001b[0;31mNameError\u001b[0m                                 Traceback (most recent call last)",
            "\u001b[0;32m<ipython-input-4-6da4eb0495d9>\u001b[0m in \u001b[0;36m<module>\u001b[0;34m()\u001b[0m\n\u001b[0;32m----> 1\u001b[0;31m \u001b[0mcaiso_dataset\u001b[0m\u001b[0;34m.\u001b[0m\u001b[0mhead\u001b[0m\u001b[0;34m(\u001b[0m\u001b[0;34m)\u001b[0m\u001b[0;34m\u001b[0m\u001b[0;34m\u001b[0m\u001b[0m\n\u001b[0m",
            "\u001b[0;31mNameError\u001b[0m: name 'caiso_dataset' is not defined"
          ]
        }
      ]
    },
    {
      "cell_type": "markdown",
      "metadata": {
        "id": "DOLfuXPsvzoE",
        "colab_type": "text"
      },
      "source": [
        " "
      ]
    },
    {
      "cell_type": "code",
      "metadata": {
        "id": "RO8mP5DFUgbs",
        "colab_type": "code",
        "colab": {}
      },
      "source": [
        "  import mxnet as mx"
      ],
      "execution_count": 0,
      "outputs": []
    },
    {
      "cell_type": "code",
      "metadata": {
        "id": "4YBQcR5n4Iyx",
        "colab_type": "code",
        "colab": {}
      },
      "source": [
        "# step 4\n",
        "import numpy as np\n",
        "awatts = np.array(watts)"
      ],
      "execution_count": 0,
      "outputs": []
    },
    {
      "cell_type": "code",
      "metadata": {
        "id": "wCZProl-UqMf",
        "colab_type": "code",
        "outputId": "37c4c32a-35ee-48fa-caa1-05b5d4874af2",
        "colab": {
          "base_uri": "https://localhost:8080/",
          "height": 328
        }
      },
      "source": [
        "import gluonts\n",
        "import pandas as pd"
      ],
      "execution_count": 0,
      "outputs": [
        {
          "output_type": "error",
          "ename": "ModuleNotFoundError",
          "evalue": "ignored",
          "traceback": [
            "\u001b[0;31m---------------------------------------------------------------------------\u001b[0m",
            "\u001b[0;31mModuleNotFoundError\u001b[0m                       Traceback (most recent call last)",
            "\u001b[0;32m<ipython-input-3-f23ddc68d457>\u001b[0m in \u001b[0;36m<module>\u001b[0;34m()\u001b[0m\n\u001b[0;32m----> 1\u001b[0;31m \u001b[0;32mimport\u001b[0m \u001b[0mgluonts\u001b[0m\u001b[0;34m\u001b[0m\u001b[0;34m\u001b[0m\u001b[0m\n\u001b[0m\u001b[1;32m      2\u001b[0m \u001b[0;32mimport\u001b[0m \u001b[0mpandas\u001b[0m \u001b[0;32mas\u001b[0m \u001b[0mpd\u001b[0m\u001b[0;34m\u001b[0m\u001b[0;34m\u001b[0m\u001b[0m\n",
            "\u001b[0;31mModuleNotFoundError\u001b[0m: No module named 'gluonts'",
            "",
            "\u001b[0;31m---------------------------------------------------------------------------\u001b[0;32m\nNOTE: If your import is failing due to a missing package, you can\nmanually install dependencies using either !pip or !apt.\n\nTo view examples of installing some common dependencies, click the\n\"Open Examples\" button below.\n\u001b[0;31m---------------------------------------------------------------------------\u001b[0m\n"
          ]
        }
      ]
    },
    {
      "cell_type": "code",
      "metadata": {
        "id": "V8nUG80C4MoB",
        "colab_type": "code",
        "colab": {}
      },
      "source": [
        "# step 6\n",
        "from gluonts.dataset.common import ListDataset\n",
        "start = pd.Timestamp(time_stamps[0], freq=\"0.5H\")\n",
        "\n",
        "pred_length = 3000\n",
        "freq=\"0.5H\"\n",
        "\n",
        "train_ds1 = ListDataset([{'target': x, 'start': start} for x in awatts[:-pred_length]], freq = freq)\n",
        "\n",
        "test_ds1 = ListDataset([{'target':x, 'start':start} for x in awatts], freq= freq)"
      ],
      "execution_count": 0,
      "outputs": []
    },
    {
      "cell_type": "code",
      "metadata": {
        "id": "K5Vx35aF4BVc",
        "colab_type": "code",
        "colab": {
          "base_uri": "https://localhost:8080/",
          "height": 890
        },
        "outputId": "d9ce1dc4-a289-4ba0-f79a-2663b498f885"
      },
      "source": [
        "from gluonts.model.deepar import DeepAREstimator\n",
        "from gluonts.trainer import Trainer\n",
        "estimator = DeepAREstimator(freq=\"1H\", prediction_length=50, trainer=Trainer(epochs=10,batch_size=10))\n",
        "predictor = estimator.train(training_data=norm_training_data_neweng)"
      ],
      "execution_count": 10,
      "outputs": [
        {
          "output_type": "stream",
          "text": [
            "INFO:root:Using CPU\n",
            "INFO:root:Using CPU\n",
            "INFO:root:Start model training\n",
            "INFO:root:Epoch[0] Learning rate is 0.001\n",
            "  0%|          | 0/50 [00:00<?, ?it/s]"
          ],
          "name": "stderr"
        },
        {
          "output_type": "stream",
          "text": [
            "learning rate from ``lr_scheduler`` has been overwritten by ``learning_rate`` in optimizer.\n"
          ],
          "name": "stdout"
        },
        {
          "output_type": "stream",
          "text": [
            "INFO:root:Number of parameters in DeepARTrainingNetwork: 27644\n",
            "100%|██████████| 50/50 [00:03<00:00, 12.66it/s, avg_epoch_loss=-.336]\n",
            "INFO:root:Epoch[0] Elapsed time 3.953 seconds\n",
            "INFO:root:Epoch[0] Evaluation metric 'epoch_loss'=-0.335649\n",
            "INFO:root:Epoch[1] Learning rate is 0.001\n",
            "100%|██████████| 50/50 [00:03<00:00, 14.31it/s, avg_epoch_loss=-1.5]\n",
            "INFO:root:Epoch[1] Elapsed time 3.501 seconds\n",
            "INFO:root:Epoch[1] Evaluation metric 'epoch_loss'=-1.497371\n",
            "INFO:root:Epoch[2] Learning rate is 0.001\n",
            "100%|██████████| 50/50 [00:03<00:00, 14.29it/s, avg_epoch_loss=-1.83]\n",
            "INFO:root:Epoch[2] Elapsed time 3.503 seconds\n",
            "INFO:root:Epoch[2] Evaluation metric 'epoch_loss'=-1.829331\n",
            "INFO:root:Epoch[3] Learning rate is 0.001\n",
            "100%|██████████| 50/50 [00:03<00:00, 14.31it/s, avg_epoch_loss=-2.09]\n",
            "INFO:root:Epoch[3] Elapsed time 3.497 seconds\n",
            "INFO:root:Epoch[3] Evaluation metric 'epoch_loss'=-2.087961\n",
            "INFO:root:Epoch[4] Learning rate is 0.001\n",
            "100%|██████████| 50/50 [00:03<00:00, 14.29it/s, avg_epoch_loss=-2.3]\n",
            "INFO:root:Epoch[4] Elapsed time 3.504 seconds\n",
            "INFO:root:Epoch[4] Evaluation metric 'epoch_loss'=-2.298532\n",
            "INFO:root:Epoch[5] Learning rate is 0.001\n",
            "100%|██████████| 50/50 [00:03<00:00, 14.21it/s, avg_epoch_loss=-2.34]\n",
            "INFO:root:Epoch[5] Elapsed time 3.524 seconds\n",
            "INFO:root:Epoch[5] Evaluation metric 'epoch_loss'=-2.343665\n",
            "INFO:root:Epoch[6] Learning rate is 0.001\n",
            "100%|██████████| 50/50 [00:03<00:00, 14.34it/s, avg_epoch_loss=-2.53]\n",
            "INFO:root:Epoch[6] Elapsed time 3.489 seconds\n",
            "INFO:root:Epoch[6] Evaluation metric 'epoch_loss'=-2.525908\n",
            "INFO:root:Epoch[7] Learning rate is 0.001\n",
            "100%|██████████| 50/50 [00:03<00:00, 14.37it/s, avg_epoch_loss=-2.62]\n",
            "INFO:root:Epoch[7] Elapsed time 3.484 seconds\n",
            "INFO:root:Epoch[7] Evaluation metric 'epoch_loss'=-2.617692\n",
            "INFO:root:Epoch[8] Learning rate is 0.001\n",
            "100%|██████████| 50/50 [00:03<00:00, 14.44it/s, avg_epoch_loss=-2.64]\n",
            "INFO:root:Epoch[8] Elapsed time 3.468 seconds\n",
            "INFO:root:Epoch[8] Evaluation metric 'epoch_loss'=-2.637222\n",
            "INFO:root:Epoch[9] Learning rate is 0.001\n",
            "100%|██████████| 50/50 [00:03<00:00, 14.43it/s, avg_epoch_loss=-2.8]\n",
            "INFO:root:Epoch[9] Elapsed time 3.467 seconds\n",
            "INFO:root:Epoch[9] Evaluation metric 'epoch_loss'=-2.803041\n",
            "INFO:root:Loading parameters from best epoch (9)\n",
            "INFO:root:Final loss: -2.803040790557861 (occurred at epoch 9)\n",
            "INFO:root:End model training\n"
          ],
          "name": "stderr"
        }
      ]
    },
    {
      "cell_type": "code",
      "metadata": {
        "id": "xAbf6bOn_KXC",
        "colab_type": "code",
        "outputId": "d77e6b4d-a1fc-4d7e-86d5-53432f6b094f",
        "colab": {
          "base_uri": "https://localhost:8080/",
          "height": 852
        }
      },
      "source": [
        "from gluonts.model.deepar import DeepAREstimator\n",
        "from gluonts.trainer import Trainer\n",
        "estimator = DeepAREstimator(freq=\"1H\", prediction_length=100, trainer=Trainer(epochs=10,batch_size=10))\n",
        "predictor = estimator.train(training_data=training_data_caiso )"
      ],
      "execution_count": 0,
      "outputs": [
        {
          "output_type": "stream",
          "text": [
            "INFO:root:Using CPU\n",
            "INFO:root:Start model training\n",
            "INFO:root:Epoch[0] Learning rate is 0.001\n",
            "  0%|          | 0/50 [00:00<?, ?it/s]"
          ],
          "name": "stderr"
        },
        {
          "output_type": "stream",
          "text": [
            "learning rate from ``lr_scheduler`` has been overwritten by ``learning_rate`` in optimizer.\n"
          ],
          "name": "stdout"
        },
        {
          "output_type": "stream",
          "text": [
            "INFO:root:Number of parameters in DeepARTrainingNetwork: 27644\n",
            "100%|██████████| 50/50 [00:07<00:00,  6.91it/s, avg_epoch_loss=6.82]\n",
            "INFO:root:Epoch[0] Elapsed time 7.241 seconds\n",
            "INFO:root:Epoch[0] Evaluation metric 'epoch_loss'=6.824201\n",
            "INFO:root:Epoch[1] Learning rate is 0.001\n",
            "100%|██████████| 50/50 [00:06<00:00,  7.74it/s, avg_epoch_loss=5.88]\n",
            "INFO:root:Epoch[1] Elapsed time 6.463 seconds\n",
            "INFO:root:Epoch[1] Evaluation metric 'epoch_loss'=5.884903\n",
            "INFO:root:Epoch[2] Learning rate is 0.001\n",
            "100%|██████████| 50/50 [00:06<00:00,  7.72it/s, avg_epoch_loss=5.58]\n",
            "INFO:root:Epoch[2] Elapsed time 6.484 seconds\n",
            "INFO:root:Epoch[2] Evaluation metric 'epoch_loss'=5.575997\n",
            "INFO:root:Epoch[3] Learning rate is 0.001\n",
            "100%|██████████| 50/50 [00:06<00:00,  7.76it/s, avg_epoch_loss=5.37]\n",
            "INFO:root:Epoch[3] Elapsed time 6.454 seconds\n",
            "INFO:root:Epoch[3] Evaluation metric 'epoch_loss'=5.373884\n",
            "INFO:root:Epoch[4] Learning rate is 0.001\n",
            "100%|██████████| 50/50 [00:06<00:00,  7.82it/s, avg_epoch_loss=5.24]\n",
            "INFO:root:Epoch[4] Elapsed time 6.403 seconds\n",
            "INFO:root:Epoch[4] Evaluation metric 'epoch_loss'=5.235194\n",
            "INFO:root:Epoch[5] Learning rate is 0.001\n",
            "100%|██████████| 50/50 [00:06<00:00,  7.79it/s, avg_epoch_loss=5.17]\n",
            "INFO:root:Epoch[5] Elapsed time 6.429 seconds\n",
            "INFO:root:Epoch[5] Evaluation metric 'epoch_loss'=5.169244\n",
            "INFO:root:Epoch[6] Learning rate is 0.001\n",
            "100%|██████████| 50/50 [00:06<00:00,  7.78it/s, avg_epoch_loss=5.25]\n",
            "INFO:root:Epoch[6] Elapsed time 6.429 seconds\n",
            "INFO:root:Epoch[6] Evaluation metric 'epoch_loss'=5.247688\n",
            "INFO:root:Epoch[7] Learning rate is 0.001\n",
            "100%|██████████| 50/50 [00:06<00:00,  7.85it/s, avg_epoch_loss=5.08]\n",
            "INFO:root:Epoch[7] Elapsed time 6.371 seconds\n",
            "INFO:root:Epoch[7] Evaluation metric 'epoch_loss'=5.078516\n",
            "INFO:root:Epoch[8] Learning rate is 0.001\n",
            "100%|██████████| 50/50 [00:06<00:00,  7.83it/s, avg_epoch_loss=5.03]\n",
            "INFO:root:Epoch[8] Elapsed time 6.394 seconds\n",
            "INFO:root:Epoch[8] Evaluation metric 'epoch_loss'=5.028258\n",
            "INFO:root:Epoch[9] Learning rate is 0.001\n",
            "100%|██████████| 50/50 [00:06<00:00,  7.87it/s, avg_epoch_loss=4.87]\n",
            "INFO:root:Epoch[9] Elapsed time 6.354 seconds\n",
            "INFO:root:Epoch[9] Evaluation metric 'epoch_loss'=4.866290\n",
            "INFO:root:Loading parameters from best epoch (9)\n",
            "INFO:root:Final loss: 4.866289566040039 (occurred at epoch 9)\n",
            "INFO:root:End model training\n"
          ],
          "name": "stderr"
        }
      ]
    },
    {
      "cell_type": "code",
      "metadata": {
        "id": "UpcvR4065FYK",
        "colab_type": "code",
        "colab": {}
      },
      "source": [
        "# accuracy of deeparest. \n",
        "from gluonts.evaluation.backtest import make_evaluation_predictions\n",
        "\n",
        "deepare_forecast_it, deepare_ts_it = make_evaluation_predictions(dataset=norm_test_NE_dataset, \n",
        "                                                                 predictor=predictor, num_samples=20)"
      ],
      "execution_count": 0,
      "outputs": []
    },
    {
      "cell_type": "code",
      "metadata": {
        "id": "5NH8q2_F6Ukr",
        "colab_type": "code",
        "colab": {}
      },
      "source": [
        "deepare_forecasts = list(deepare_forecast_it)\n",
        "deepare_tss = list(deepare_ts_it)"
      ],
      "execution_count": 0,
      "outputs": []
    },
    {
      "cell_type": "code",
      "metadata": {
        "id": "70Ws2rEk_OPX",
        "colab_type": "code",
        "colab": {
          "base_uri": "https://localhost:8080/",
          "height": 34
        },
        "outputId": "efd1a1c9-a010-4404-ea79-926177e34c40"
      },
      "source": [
        "from gluonts.evaluation import Evaluator\n",
        "\n",
        "evaluator = Evaluator(quantiles=[0.1, 0.5, 0.9])\n",
        "agg_metrics, item_metrics = evaluator(iter(deepare_tss), iter(deepare_forecasts), num_series=len(norm_test_NE_dataset))"
      ],
      "execution_count": 14,
      "outputs": [
        {
          "output_type": "stream",
          "text": [
            "Running evaluation: 100%|██████████| 1/1 [00:00<00:00, 48.79it/s]\n"
          ],
          "name": "stderr"
        }
      ]
    },
    {
      "cell_type": "code",
      "metadata": {
        "id": "mnHjwT3n6JcJ",
        "colab_type": "code",
        "colab": {
          "base_uri": "https://localhost:8080/",
          "height": 97
        },
        "outputId": "f83b64d7-f573-413b-b6ef-7d473149d9c8"
      },
      "source": [
        "item_metrics.head()"
      ],
      "execution_count": 15,
      "outputs": [
        {
          "output_type": "execute_result",
          "data": {
            "text/html": [
              "<div>\n",
              "<style scoped>\n",
              "    .dataframe tbody tr th:only-of-type {\n",
              "        vertical-align: middle;\n",
              "    }\n",
              "\n",
              "    .dataframe tbody tr th {\n",
              "        vertical-align: top;\n",
              "    }\n",
              "\n",
              "    .dataframe thead th {\n",
              "        text-align: right;\n",
              "    }\n",
              "</style>\n",
              "<table border=\"1\" class=\"dataframe\">\n",
              "  <thead>\n",
              "    <tr style=\"text-align: right;\">\n",
              "      <th></th>\n",
              "      <th>item_id</th>\n",
              "      <th>MSE</th>\n",
              "      <th>abs_error</th>\n",
              "      <th>abs_target_sum</th>\n",
              "      <th>abs_target_mean</th>\n",
              "      <th>seasonal_error</th>\n",
              "      <th>MASE</th>\n",
              "      <th>sMAPE</th>\n",
              "      <th>MSIS</th>\n",
              "      <th>QuantileLoss[0.1]</th>\n",
              "      <th>Coverage[0.1]</th>\n",
              "      <th>QuantileLoss[0.5]</th>\n",
              "      <th>Coverage[0.5]</th>\n",
              "      <th>QuantileLoss[0.9]</th>\n",
              "      <th>Coverage[0.9]</th>\n",
              "    </tr>\n",
              "  </thead>\n",
              "  <tbody>\n",
              "    <tr>\n",
              "      <th>0</th>\n",
              "      <td>NaN</td>\n",
              "      <td>0.255341</td>\n",
              "      <td>15.179162</td>\n",
              "      <td>15.344464</td>\n",
              "      <td>0.306889</td>\n",
              "      <td>0.000051</td>\n",
              "      <td>5911.227129</td>\n",
              "      <td>1.234108</td>\n",
              "      <td>234490.841974</td>\n",
              "      <td>3.057364</td>\n",
              "      <td>0.0</td>\n",
              "      <td>15.179163</td>\n",
              "      <td>0.26</td>\n",
              "      <td>27.134154</td>\n",
              "      <td>0.42</td>\n",
              "    </tr>\n",
              "  </tbody>\n",
              "</table>\n",
              "</div>"
            ],
            "text/plain": [
              "   item_id       MSE  ...  QuantileLoss[0.9]  Coverage[0.9]\n",
              "0      NaN  0.255341  ...          27.134154           0.42\n",
              "\n",
              "[1 rows x 15 columns]"
            ]
          },
          "metadata": {
            "tags": []
          },
          "execution_count": 15
        }
      ]
    },
    {
      "cell_type": "code",
      "metadata": {
        "id": "qAW1fCyg64R6",
        "colab_type": "code",
        "colab": {}
      },
      "source": [
        "import matplotlib.pyplot as plt\n",
        "\n",
        "def plot_prob_forecasts(ts_entry, forecast_entry):\n",
        "    plot_length = 150\n",
        "    prediction_intervals = (50.0, 90.0)\n",
        "    legend = [\"observations\", \"median prediction\"] + [f\"{k}% prediction interval\" for k in prediction_intervals][::-1]\n",
        "\n",
        "    fig, ax = plt.subplots(1, 1, figsize=(10, 7))\n",
        "    ts_entry[-plot_length:].plot(ax=ax)  # plot the time series\n",
        "    forecast_entry.plot(prediction_intervals=prediction_intervals, color='g')\n",
        "    plt.grid(which=\"both\")\n",
        "    plt.legend(legend, loc=\"upper left\")\n",
        "    plt.show()"
      ],
      "execution_count": 0,
      "outputs": []
    },
    {
      "cell_type": "code",
      "metadata": {
        "id": "-hnwBiuI6-NW",
        "colab_type": "code",
        "colab": {}
      },
      "source": [
        "d_ts_entry = deepare_tss[0]\n",
        "d_forecast_entry= deepare_forecasts[0]"
      ],
      "execution_count": 0,
      "outputs": []
    },
    {
      "cell_type": "code",
      "metadata": {
        "id": "F9HrP_q57Gjh",
        "colab_type": "code",
        "colab": {
          "base_uri": "https://localhost:8080/",
          "height": 452
        },
        "outputId": "bea9cae7-360a-4d6a-f39f-8c40a7eeb389"
      },
      "source": [
        "plot_prob_forecasts(d_ts_entry, d_forecast_entry)"
      ],
      "execution_count": 22,
      "outputs": [
        {
          "output_type": "display_data",
          "data": {
            "image/png": "[encoded data removed]",
            "text/plain": [
              "<Figure size 720x504 with 1 Axes>"
            ]
          },
          "metadata": {
            "tags": [],
            "needs_background": "light"
          }
        }
      ]
    },
    {
      "cell_type": "code",
      "metadata": {
        "id": "60elNczd-4fJ",
        "colab_type": "code",
        "outputId": "2b2694a3-3ce5-415d-8d5d-7c244c10e654",
        "colab": {
          "base_uri": "https://localhost:8080/",
          "height": 34
        }
      },
      "source": [
        "len(train_ds1)"
      ],
      "execution_count": 0,
      "outputs": [
        {
          "output_type": "execute_result",
          "data": {
            "text/plain": [
              "77000"
            ]
          },
          "metadata": {
            "tags": []
          },
          "execution_count": 33
        }
      ]
    },
    {
      "cell_type": "markdown",
      "metadata": {
        "id": "2lumWeQqzPut",
        "colab_type": "text"
      },
      "source": [
        "gluon loss various functions \n"
      ]
    },
    {
      "cell_type": "code",
      "metadata": {
        "id": "I9pxDGMhzRU-",
        "colab_type": "code",
        "outputId": "40e83c27-e846-4de4-e0ea-1b12fa0fa71c",
        "colab": {
          "base_uri": "https://localhost:8080/",
          "height": 70
        }
      },
      "source": [
        "import mxnet\n",
        "from mxnet.gluon import nn, loss as gloss\n",
        "\n",
        "import mxnet as mx\n",
        "import mxnet.ndarray as nd\n",
        "from mxnet import nd, autograd, gluon\n",
        "from mxnet.gluon.data.vision import transforms\n",
        "\n",
        "# L2 Loss\n",
        "loss2 = gloss.L2Loss()\n",
        "\n",
        "# sample data \n",
        "x = nd.ones((2,))\n",
        "y = nd.ones((2,)) * 2\n",
        "loss2(x, y)\n",
        "\n",
        "# Huber loss\n",
        "loss_huber = gloss.HuberLoss(rho=0.85) # threshold rho \n",
        "\n",
        "loss = gloss.SoftmaxCrossEntropyLoss()\n",
        "x = nd.array([[1, 10], [8, 2]])\n",
        "y = nd.array([0, 1])\n",
        "loss(x, y)"
      ],
      "execution_count": 21,
      "outputs": [
        {
          "output_type": "execute_result",
          "data": {
            "text/plain": [
              "\n",
              "[9.000123  6.0024757]\n",
              "<NDArray 2 @cpu(0)>"
            ]
          },
          "metadata": {
            "tags": []
          },
          "execution_count": 21
        }
      ]
    },
    {
      "cell_type": "code",
      "metadata": {
        "id": "WzFlFax4HuGt",
        "colab_type": "code",
        "colab": {
          "base_uri": "https://localhost:8080/",
          "height": 70
        },
        "outputId": "7f38c08b-b074-4e3d-b930-893b5571a865"
      },
      "source": [
        "xh = nd.array([1,2,3,4,5])\n",
        "yh = nd.array([2,2,3,4,5])\n",
        "loss_huber(xh, yh)"
      ],
      "execution_count": 14,
      "outputs": [
        {
          "output_type": "execute_result",
          "data": {
            "text/plain": [
              "\n",
              "[0.575 0.    0.    0.    0.   ]\n",
              "<NDArray 5 @cpu(0)>"
            ]
          },
          "metadata": {
            "tags": []
          },
          "execution_count": 14
        }
      ]
    },
    {
      "cell_type": "code",
      "metadata": {
        "id": "FOHW3VEiYHgN",
        "colab_type": "code",
        "colab": {
          "base_uri": "https://localhost:8080/",
          "height": 34
        },
        "outputId": "8dd16221-ce77-4104-c68c-4add8f10310c"
      },
      "source": [
        "alen"
      ],
      "execution_count": 20,
      "outputs": [
        {
          "output_type": "execute_result",
          "data": {
            "text/plain": [
              "3"
            ]
          },
          "metadata": {
            "tags": []
          },
          "execution_count": 20
        }
      ]
    },
    {
      "cell_type": "code",
      "metadata": {
        "id": "m2kJJ0nzYAFe",
        "colab_type": "code",
        "colab": {
          "base_uri": "https://localhost:8080/",
          "height": 204
        },
        "outputId": "72c71cde-790d-45c8-b412-40135d1cf411"
      },
      "source": [
        "from scipy.linalg import norm\n",
        "from numpy import array\n",
        "v4= [3,4,5,6]\n",
        "v3 = [1,1,1,1]\n",
        "norm(array(v4- v3), 2)"
      ],
      "execution_count": 26,
      "outputs": [
        {
          "output_type": "error",
          "ename": "TypeError",
          "evalue": "ignored",
          "traceback": [
            "\u001b[0;31m---------------------------------------------------------------------------\u001b[0m",
            "\u001b[0;31mTypeError\u001b[0m                                 Traceback (most recent call last)",
            "\u001b[0;32m<ipython-input-26-e195a9d08a18>\u001b[0m in \u001b[0;36m<module>\u001b[0;34m()\u001b[0m\n\u001b[1;32m      3\u001b[0m \u001b[0mv4\u001b[0m\u001b[0;34m=\u001b[0m \u001b[0;34m[\u001b[0m\u001b[0;36m3\u001b[0m\u001b[0;34m,\u001b[0m\u001b[0;36m4\u001b[0m\u001b[0;34m,\u001b[0m\u001b[0;36m5\u001b[0m\u001b[0;34m,\u001b[0m\u001b[0;36m6\u001b[0m\u001b[0;34m]\u001b[0m\u001b[0;34m\u001b[0m\u001b[0;34m\u001b[0m\u001b[0m\n\u001b[1;32m      4\u001b[0m \u001b[0mv3\u001b[0m \u001b[0;34m=\u001b[0m \u001b[0;34m[\u001b[0m\u001b[0;36m1\u001b[0m\u001b[0;34m,\u001b[0m\u001b[0;36m1\u001b[0m\u001b[0;34m,\u001b[0m\u001b[0;36m1\u001b[0m\u001b[0;34m,\u001b[0m\u001b[0;36m1\u001b[0m\u001b[0;34m]\u001b[0m\u001b[0;34m\u001b[0m\u001b[0;34m\u001b[0m\u001b[0m\n\u001b[0;32m----> 5\u001b[0;31m \u001b[0mnorm\u001b[0m\u001b[0;34m(\u001b[0m\u001b[0marray\u001b[0m\u001b[0;34m(\u001b[0m\u001b[0mv4\u001b[0m\u001b[0;34m-\u001b[0m \u001b[0mv3\u001b[0m\u001b[0;34m)\u001b[0m\u001b[0;34m,\u001b[0m \u001b[0;36m2\u001b[0m\u001b[0;34m)\u001b[0m\u001b[0;34m\u001b[0m\u001b[0;34m\u001b[0m\u001b[0m\n\u001b[0m",
            "\u001b[0;31mTypeError\u001b[0m: unsupported operand type(s) for -: 'list' and 'list'"
          ]
        }
      ]
    },
    {
      "cell_type": "code",
      "metadata": {
        "id": "F-9e_ETDn0XC",
        "colab_type": "code",
        "colab": {
          "base_uri": "https://localhost:8080/",
          "height": 34
        },
        "outputId": "f469b8f7-72d7-49fc-9ed1-c9847da915d1"
      },
      "source": [
        "a= [1,2,3,4,5,6]\n",
        "a[2:4]"
      ],
      "execution_count": 1,
      "outputs": [
        {
          "output_type": "execute_result",
          "data": {
            "text/plain": [
              "[3, 4]"
            ]
          },
          "metadata": {
            "tags": []
          },
          "execution_count": 1
        }
      ]
    },
    {
      "cell_type": "code",
      "metadata": {
        "id": "DKuoKodsLQMr",
        "colab_type": "code",
        "colab": {}
      },
      "source": [
        "# procedure to choose xneg by sampling from other subseries \n",
        "\n",
        "\n",
        "other_subseries = [morningdf, earlymorningdf, afternoondf]\n",
        "# choose one subseries at random\n",
        "number_other = 3\n",
        "\n",
        "def choose_xneg(alength): # returns array of length alength\n",
        "    rand_num = random.randint(0, number_other-1)\n",
        "    target_neg_df = other_subseries[rand_num]\n",
        "    # sample of length alength\n",
        "    negarray = target_neg_df['iso']\n",
        "    len_negarray = len(negarray)\n",
        "    start = np.random.randint(0, len_negarray - alength)\n",
        "    return negarray[start:start+alength]\n",
        "\n",
        "\n"
      ],
      "execution_count": 0,
      "outputs": []
    },
    {
      "cell_type": "code",
      "metadata": {
        "id": "bwC5Qp-tVFU5",
        "colab_type": "code",
        "colab": {}
      },
      "source": [
        "#from scipy.linalg import norm\n",
        "\n",
        "# triplet loss compute\n",
        "def compute_triplet_loss( xpos, xneg, pred):\n",
        "  margin = -0.25\n",
        "  array_len = len(xpos)\n",
        "  tot = 0\n",
        "  for i in range(0, array_len):\n",
        "    #ppos = norm(xpos[i] - pred[i], 2)\n",
        "    ppos = pow(xpos[i] - pred[i], 2)\n",
        "    pneg = pow(xneg[i]- pred[i], 2)\n",
        "    tot = tot+ np.max(ppos - pneg + margin, 0)\n",
        "  return tot\n",
        "\n"
      ],
      "execution_count": 0,
      "outputs": []
    },
    {
      "cell_type": "code",
      "metadata": {
        "id": "kivh1Fynx9YE",
        "colab_type": "code",
        "colab": {}
      },
      "source": [
        "\n",
        "# custom step 1\n",
        "from gluonts.model.estimator import GluonEstimator\n",
        "from gluonts.model.predictor import Predictor, RepresentableBlockPredictor\n",
        "from gluonts.core.component import validated\n",
        "from gluonts.trainer import Trainer \n",
        "from gluonts.support.util import copy_parameters\n",
        "from gluonts.transform import ExpectedNumInstanceSampler, Transformation, InstanceSplitter\n",
        "from mxnet.gluon import HybridBlock \n",
        "from mxnet import gluon\n",
        "from gluonts.dataset.field_names import FieldName\n",
        "\n",
        "from mxnet.gluon import nn, loss as gloss\n",
        "import mxnet as mx\n",
        "import mxnet.ndarray as nd\n",
        "from mxnet import nd, autograd, gluon\n",
        "from mxnet.gluon.data.vision import transforms"
      ],
      "execution_count": 0,
      "outputs": []
    },
    {
      "cell_type": "code",
      "metadata": {
        "id": "J8E6sG39VtvR",
        "colab_type": "code",
        "outputId": "530d473b-5164-469c-dca7-840458b4d454",
        "colab": {
          "base_uri": "https://localhost:8080/",
          "height": 34
        }
      },
      "source": [
        "# custom step 1 b\n",
        "class MyNetwork(gluon.HybridBlock):\n",
        "    def __init__(self, prediction_length, num_cells, **kwargs):\n",
        "        super().__init__(**kwargs)\n",
        "        self.prediction_length = prediction_length\n",
        "        self.num_cells = num_cells\n",
        "    \n",
        "        with self.name_scope():\n",
        "            # Set up a 4 layer neural network that directly predicts the target values\n",
        "            self.nn = mx.gluon.nn.HybridSequential()\n",
        "            self.nn.add(mx.gluon.nn.Dense(units=self.num_cells, activation='relu'))\n",
        "            self.nn.add(mx.gluon.nn.Dense(units=self.num_cells, activation='relu'))\n",
        "            self.nn.add(mx.gluon.nn.Dense(units=self.num_cells, activation='relu'))\n",
        "            self.nn.add(mx.gluon.nn.Dense(units=self.prediction_length, activation='softrelu'))\n",
        "\n",
        "class MyTrainNetwork1(MyNetwork):    \n",
        "    def hybrid_forward(self, F, past_target, future_target): # add input \n",
        "        prediction = self.nn(past_target)\n",
        "        # calculate L1 loss with the future_target to learn the median\n",
        "\n",
        "        # change the loss \n",
        "        plen = len(prediction)\n",
        "\n",
        "        #print(\"len prediction is,\", plen)\n",
        "        #print(\"prediction is,\", prediction)\n",
        "        #print(\"future target is,\", future_target)\n",
        "\n",
        "        # change loss \n",
        "        # L2 loss\n",
        "        loss2 = gloss.L2Loss()\n",
        "        # huber loss\n",
        "        loss_huber = gloss.HuberLoss(rho=0.85)\n",
        "        hloss= loss_huber( nd.array(prediction), nd.array(future_target))\n",
        "        # randomly choose xneg \n",
        "        \n",
        "        return (prediction - future_target).abs().mean(axis=-1)\n",
        "        #return hloss\n",
        "        \n",
        "\n",
        "class MyPredNetwork1(MyTrainNetwork1):\n",
        "    # The prediction network only receives past_target and returns predictions\n",
        "    def hybrid_forward(self, F, past_target):\n",
        "        prediction = self.nn(past_target)\n",
        "        return prediction.expand_dims(axis=1)\n",
        "\n",
        "class MyEstimator1(GluonEstimator):\n",
        "  @validated()\n",
        "  def __init__(\n",
        "      self,\n",
        "      prediction_length:int,\n",
        "      context_length:int,\n",
        "      freq:str,\n",
        "      num_cells:int,\n",
        "      trainer: Trainer=Trainer()\n",
        "  ) -> None:\n",
        "      super().__init__(trainer=trainer)\n",
        "      self.prediction_length = prediction_length\n",
        "      self.context_length = context_length\n",
        "      self.freq = freq\n",
        "      self.num_cells = num_cells\n",
        "  def create_transformation(self):\n",
        "    return InstanceSplitter(\n",
        "                    target_field=FieldName.TARGET,\n",
        "                    is_pad_field=FieldName.IS_PAD,\n",
        "                    start_field=FieldName.START,\n",
        "                    forecast_start_field=FieldName.FORECAST_START,\n",
        "                    train_sampler=ExpectedNumInstanceSampler(num_instances=1),\n",
        "                    past_length=self.context_length,\n",
        "                    future_length=self.prediction_length\n",
        "                )\n",
        "  def create_training_network(self) -> MyTrainNetwork1:\n",
        "    return MyTrainNetwork1(\n",
        "        prediction_length = self.prediction_length,\n",
        "        num_cells= self.num_cells\n",
        "    )\n",
        "  def create_predictor(self, transformation:Transformation, trained_network: HybridBlock) -> Predictor:\n",
        "    prediction_network = MyPredNetwork1(\n",
        "        prediction_length= self.prediction_length,\n",
        "        num_cells = self.num_cells\n",
        "    )\n",
        "\n",
        "    copy_parameters(trained_network, prediction_network)\n",
        "\n",
        "    return RepresentableBlockPredictor(\n",
        "        input_transform=transformation,\n",
        "        prediction_net=prediction_network,\n",
        "        batch_size = self.trainer.batch_size,\n",
        "        freq = self.freq,\n",
        "        prediction_length = self.prediction_length,\n",
        "        ctx=self.trainer.ctx\n",
        "    )"
      ],
      "execution_count": 25,
      "outputs": [
        {
          "output_type": "stream",
          "text": [
            "INFO:root:Using CPU\n"
          ],
          "name": "stderr"
        }
      ]
    },
    {
      "cell_type": "code",
      "metadata": {
        "id": "I50Czybrgf05",
        "colab_type": "code",
        "colab": {
          "base_uri": "https://localhost:8080/",
          "height": 34
        },
        "outputId": "0764ac3a-4a40-47ab-d633-4ad22a49c94d"
      },
      "source": [
        "# custom step 1 c\n",
        "\n",
        "from gluonts.distribution.distribution_output import DistributionOutput\n",
        "from gluonts.distribution.gaussian import GaussianOutput\n",
        "\n",
        "def kl_divergence(dist_a, dist_b):\n",
        "    # add batch dimension\n",
        "    pred_batch = mx.nd.array(dist_a).expand_dims(0)\n",
        "    target_batch = mx.nd.array(dist_b).expand_dims(0)\n",
        "    # log the distribution\n",
        "    pred_batch = pred_batch.log()\n",
        "    # create loss (assuming we have a logged prediction distribution)\n",
        "    loss_fn = mx.gluon.loss.KLDivLoss(from_logits=True)\n",
        "    divergence = loss_fn(pred_batch, target_batch)\n",
        "    return divergence.asscalar()\n",
        "\n",
        "class MyProbNetwork(gluon.HybridBlock):\n",
        "    def __init__(self,\n",
        "                 prediction_length,\n",
        "                 distr_output,\n",
        "                 num_cells,\n",
        "                 num_sample_paths=10,\n",
        "                 **kwargs\n",
        "    ) -> None:\n",
        "        super().__init__(**kwargs)\n",
        "        self.prediction_length = prediction_length\n",
        "        self.distr_output = distr_output\n",
        "        self.num_cells = num_cells\n",
        "        self.num_sample_paths = num_sample_paths\n",
        "        self.proj_distr_args = distr_output.get_args_proj()\n",
        "\n",
        "        with self.name_scope():\n",
        "            # Set up a 3 layer neural network that its ouput will be projected to the distribution parameters\n",
        "            self.nn = mx.gluon.nn.HybridSequential()\n",
        "            self.nn.add(mx.gluon.nn.Dense(units=self.num_cells, activation='relu'))\n",
        "            self.nn.add(mx.gluon.nn.Dense(units=self.num_cells, activation='relu'))\n",
        "            self.nn.add(mx.gluon.nn.Dense(units=self.prediction_length * self.num_cells, activation='relu'))\n",
        "\n",
        "\n",
        "class MyProbTrainNetwork(MyProbNetwork):\n",
        "    def hybrid_forward(self, F, past_target, future_target):\n",
        "        # compute network output\n",
        "        net_output = self.nn(past_target)\n",
        "\n",
        "        # (batch, prediction_length * nn_features)  ->  (batch, prediction_length, nn_features)\n",
        "        net_output = net_output.reshape(0, self.prediction_length, -1)\n",
        "\n",
        "        # project network output to distribution parameters domain\n",
        "        distr_args = self.proj_distr_args(net_output)\n",
        "\n",
        "        #print(\"dist args,\", distr_args)\n",
        "        # compute distribution\n",
        "        distr = self.distr_output.distribution(distr_args)\n",
        "\n",
        "        # print dist\n",
        "        #print(\"dist,\", distr)\n",
        "        # negative log-likelihood\n",
        "        \n",
        "        loss = distr.loss(future_target)\n",
        "        #print(\"loss\",loss)\n",
        "        \n",
        "        #xdistr = distr.\n",
        "\n",
        "        # another loss \n",
        "        smloss = gloss.SoftmaxCrossEntropyLoss()\n",
        "        sloss = smloss(loss, future_target)\n",
        "        print(\"loss\",loss)\n",
        "\n",
        "        # KL div\n",
        "\n",
        "        return loss\n",
        "\n",
        "\n",
        "class MyProbPredNetwork(MyProbTrainNetwork):\n",
        "    # The prediction network only receives past_target and returns predictions\n",
        "    def hybrid_forward(self, F, past_target):\n",
        "        # repeat past target: from (batch_size, past_target_length) to\n",
        "        # (batch_size * num_sample_paths, past_target_length)\n",
        "        repeated_past_target = past_target.repeat(\n",
        "            repeats=self.num_sample_paths, axis=0\n",
        "        )\n",
        "\n",
        "        # compute network output\n",
        "        net_output = self.nn(repeated_past_target)\n",
        "\n",
        "        # (batch * num_sample_paths, prediction_length * nn_features)  ->  (batch * num_sample_paths, prediction_length, nn_features)\n",
        "        net_output = net_output.reshape(0, self.prediction_length, -1)\n",
        "\n",
        "        # project network output to distribution parameters domain\n",
        "        distr_args = self.proj_distr_args(net_output)\n",
        "\n",
        "        # compute distribution\n",
        "        distr = self.distr_output.distribution(distr_args)\n",
        "\n",
        "        # get (batch_size * num_sample_paths, prediction_length) samples\n",
        "        samples = distr.sample()\n",
        "\n",
        "        # reshape from (batch_size * num_sample_paths, prediction_length) to\n",
        "        # (batch_size, num_sample_paths, prediction_length)\n",
        "        return samples.reshape(shape=(-1, self.num_sample_paths, self.prediction_length))\n",
        "\n",
        "class MyProbEstimator(GluonEstimator):\n",
        "    @validated()\n",
        "    def __init__(\n",
        "            self,\n",
        "            prediction_length: int,\n",
        "            context_length: int,\n",
        "            freq: str,\n",
        "            distr_output: DistributionOutput,\n",
        "            num_cells: int,\n",
        "            num_sample_paths: int = 100,\n",
        "            trainer: Trainer = Trainer()\n",
        "    ) -> None:\n",
        "        super().__init__(trainer=trainer)\n",
        "        self.prediction_length = prediction_length\n",
        "        self.context_length = context_length\n",
        "        self.freq = freq\n",
        "        self.distr_output = distr_output\n",
        "        self.num_cells = num_cells\n",
        "        self.num_sample_paths = num_sample_paths\n",
        "\n",
        "    def create_transformation(self):\n",
        "        return InstanceSplitter(\n",
        "            target_field=FieldName.TARGET,\n",
        "            is_pad_field=FieldName.IS_PAD,\n",
        "            start_field=FieldName.START,\n",
        "            forecast_start_field=FieldName.FORECAST_START,\n",
        "            train_sampler=ExpectedNumInstanceSampler(num_instances=1),\n",
        "            past_length=self.context_length,\n",
        "            future_length=self.prediction_length,\n",
        "        )\n",
        "\n",
        "    def create_training_network(self) -> MyProbTrainNetwork:\n",
        "        return MyProbTrainNetwork(\n",
        "            prediction_length=self.prediction_length,\n",
        "            distr_output=self.distr_output,\n",
        "            num_cells=self.num_cells,\n",
        "            num_sample_paths=self.num_sample_paths\n",
        "        )\n",
        "\n",
        "    def create_predictor(\n",
        "            self, transformation: Transformation, trained_network: HybridBlock\n",
        "    ) -> Predictor:\n",
        "        prediction_network = MyProbPredNetwork(\n",
        "            prediction_length=self.prediction_length,\n",
        "            distr_output=self.distr_output,\n",
        "            num_cells=self.num_cells,\n",
        "            num_sample_paths=self.num_sample_paths\n",
        "        )\n",
        "\n",
        "        copy_parameters(trained_network, prediction_network)\n",
        "\n",
        "        return RepresentableBlockPredictor(\n",
        "            input_transform=transformation,\n",
        "            prediction_net=prediction_network,\n",
        "            batch_size=self.trainer.batch_size,\n",
        "            freq=self.freq,\n",
        "            prediction_length=self.prediction_length,\n",
        "            ctx=self.trainer.ctx,\n",
        "        )"
      ],
      "execution_count": 27,
      "outputs": [
        {
          "output_type": "stream",
          "text": [
            "INFO:root:Using CPU\n"
          ],
          "name": "stderr"
        }
      ]
    },
    {
      "cell_type": "code",
      "metadata": {
        "id": "NpNcbEz69E0Z",
        "colab_type": "code",
        "colab": {}
      },
      "source": [
        "# custom 1c 2 \n",
        "\n",
        "# modify MyProbTrainNetwork class \n",
        "\n",
        "\n",
        "# link: https://github.com/awslabs/gluon-ts/blob/master/src/gluonts/model/transformer/_network.py\n",
        "# custom 1 d\n",
        "# add subseries to the definition\n",
        "\n",
        "class MyRepNetwork(gluon.HybridBlock): # representation network\n",
        "# samples_output instead of distr_output\n",
        "  def __init__(self, prediction_length, samples_output, num_cells, num_sample_paths=10, lags_seq: List[int], **kwargs\n",
        "               ) -> None:\n",
        "               super().__init__(**kwargs)\n",
        "               self.prediction_length=prediction_length\n",
        "               self.samples_output= samples_output\n",
        "               self.num_cells= num_cells\n",
        "               self.num_sample_paths = num_sample_paths\n",
        "               # self.proj_distr_args = distr_output.get_args_proj()\n",
        "\n",
        "               with self.name_scope():\n",
        "   "
      ],
      "execution_count": 0,
      "outputs": []
    },
    {
      "cell_type": "code",
      "metadata": {
        "id": "whiqgcKQGUkw",
        "colab_type": "code",
        "colab": {}
      },
      "source": [
        "# probabilistic rnn -> covariates into it"
      ],
      "execution_count": 0,
      "outputs": []
    },
    {
      "cell_type": "code",
      "metadata": {
        "id": "5agGTyBifcUU",
        "colab_type": "code",
        "colab": {}
      },
      "source": [
        "# prob estimator\n",
        "\n",
        "pred_length = 10\n",
        "\n",
        "# num_cells: number of cells for ea layer\n",
        "\n",
        "prob_estimator = MyProbEstimator(\n",
        "    prediction_length=pred_length,\n",
        "    context_length=2*pred_length,\n",
        "    freq=\"1H\",\n",
        "    distr_output=GaussianOutput(),\n",
        "    num_cells=10,\n",
        "    trainer=Trainer(ctx=\"cpu\",\n",
        "                    epochs=10,\n",
        "                    learning_rate=1e-4,\n",
        "                    hybridize=False,\n",
        "                    num_batches_per_epoch=10\n",
        "                   )\n",
        ")\n"
      ],
      "execution_count": 0,
      "outputs": []
    },
    {
      "cell_type": "code",
      "metadata": {
        "id": "Os22Q8Ux0h1P",
        "colab_type": "code",
        "colab": {
          "base_uri": "https://localhost:8080/",
          "height": 168
        },
        "outputId": "0d43172b-3405-4f4d-9430-0b3e7db6d358"
      },
      "source": [
        ""
      ],
      "execution_count": 1,
      "outputs": [
        {
          "output_type": "error",
          "ename": "NameError",
          "evalue": "ignored",
          "traceback": [
            "\u001b[0;31m---------------------------------------------------------------------------\u001b[0m",
            "\u001b[0;31mNameError\u001b[0m                                 Traceback (most recent call last)",
            "\u001b[0;32m<ipython-input-1-cb33192abf05>\u001b[0m in \u001b[0;36m<module>\u001b[0;34m()\u001b[0m\n\u001b[0;32m----> 1\u001b[0;31m \u001b[0mnorm_training_data_neweng\u001b[0m\u001b[0;34m\u001b[0m\u001b[0;34m\u001b[0m\u001b[0m\n\u001b[0m",
            "\u001b[0;31mNameError\u001b[0m: name 'norm_training_data_neweng' is not defined"
          ]
        }
      ]
    },
    {
      "cell_type": "code",
      "metadata": {
        "id": "fz5aepQCh9yI",
        "colab_type": "code",
        "colab": {
          "base_uri": "https://localhost:8080/",
          "height": 70
        },
        "outputId": "6404752b-6d96-4d62-f669-bde003e8f504"
      },
      "source": [
        "\n",
        "\n",
        "import mxnet as mx\n",
        "# prob estimator train\n",
        "prob_predictor = prob_estimator.train(norm_training_data_neweng)"
      ],
      "execution_count": 0,
      "outputs": [
        {
          "output_type": "stream",
          "text": [
            "INFO:root:Start model training\n",
            "INFO:root:Epoch[0] Learning rate is 0.0001\n",
            "  0%|          | 0/10 [00:00<?, ?it/s]"
          ],
          "name": "stderr"
        }
      ]
    },
    {
      "cell_type": "code",
      "metadata": {
        "id": "angsrFkLfiQQ",
        "colab_type": "code",
        "colab": {}
      },
      "source": [
        "test_caiso_3_dataset"
      ],
      "execution_count": 0,
      "outputs": []
    },
    {
      "cell_type": "code",
      "metadata": {
        "id": "bavbCiN66csx",
        "colab_type": "code",
        "colab": {}
      },
      "source": [
        "# artificial \n",
        "from gluonts.dataset.artificial import ComplexSeasonalTimeSeries\n",
        "from gluonts.dataset.common import ListDataset\n",
        "\n",
        "artificial_data = ComplexSeasonalTimeSeries(\n",
        "    num_series=10,\n",
        "    prediction_length=20, \n",
        "    freq_str=\"H\",\n",
        "    length_low=30,\n",
        "    length_high=200,\n",
        "    min_val=-10,\n",
        "    max_val=1000,\n",
        "    is_integer=False,\n",
        "    proportion_missing_values=0\n",
        ")\n"
      ],
      "execution_count": 0,
      "outputs": []
    },
    {
      "cell_type": "code",
      "metadata": {
        "id": "DN-MTzRz-zob",
        "colab_type": "code",
        "outputId": "89315d49-4347-459f-bb93-13b21b85c01d",
        "colab": {
          "base_uri": "https://localhost:8080/",
          "height": 168
        }
      },
      "source": [
        ""
      ],
      "execution_count": 0,
      "outputs": [
        {
          "output_type": "error",
          "ename": "TypeError",
          "evalue": "ignored",
          "traceback": [
            "\u001b[0;31m---------------------------------------------------------------------------\u001b[0m",
            "\u001b[0;31mTypeError\u001b[0m                                 Traceback (most recent call last)",
            "\u001b[0;32m<ipython-input-29-24371488955b>\u001b[0m in \u001b[0;36m<module>\u001b[0;34m()\u001b[0m\n\u001b[0;32m----> 1\u001b[0;31m \u001b[0mlen\u001b[0m\u001b[0;34m(\u001b[0m\u001b[0martificial_data\u001b[0m\u001b[0;34m)\u001b[0m\u001b[0;34m\u001b[0m\u001b[0;34m\u001b[0m\u001b[0m\n\u001b[0m",
            "\u001b[0;31mTypeError\u001b[0m: object of type 'ComplexSeasonalTimeSeries' has no len()"
          ]
        }
      ]
    },
    {
      "cell_type": "code",
      "metadata": {
        "id": "mVjgpSuh-BpV",
        "colab_type": "code",
        "colab": {}
      },
      "source": [
        "train_artificial = ListDataset(artificial_data.train, freq=artificial_data.metadata.freq)\n",
        "test_artificial = ListDataset(artificial_data.test,freq = artificial_data.metadata.freq)\n"
      ],
      "execution_count": 0,
      "outputs": []
    },
    {
      "cell_type": "code",
      "metadata": {
        "id": "4ax_NLIa-gPs",
        "colab_type": "code",
        "outputId": "84ace8ba-4159-4433-a00b-29e3c1ab3ad5",
        "colab": {
          "base_uri": "https://localhost:8080/",
          "height": 462
        }
      },
      "source": [
        "pred_artificial = estimator1.train(train_artificial)"
      ],
      "execution_count": 0,
      "outputs": [
        {
          "output_type": "stream",
          "text": [
            "INFO:root:Start model training\n",
            "INFO:root:Epoch[0] Learning rate is 0.001\n",
            "  0%|          | 0/20 [00:00<?, ?it/s]"
          ],
          "name": "stderr"
        },
        {
          "output_type": "stream",
          "text": [
            "learning rate from ``lr_scheduler`` has been overwritten by ``learning_rate`` in optimizer.\n"
          ],
          "name": "stdout"
        },
        {
          "output_type": "stream",
          "text": [
            "\n"
          ],
          "name": "stderr"
        },
        {
          "output_type": "error",
          "ename": "Exception",
          "evalue": "ignored",
          "traceback": [
            "\u001b[0;31m---------------------------------------------------------------------------\u001b[0m",
            "\u001b[0;31mException\u001b[0m                                 Traceback (most recent call last)",
            "\u001b[0;32m<ipython-input-28-d60484e977bc>\u001b[0m in \u001b[0;36m<module>\u001b[0;34m()\u001b[0m\n\u001b[0;32m----> 1\u001b[0;31m \u001b[0mpred_artificial\u001b[0m \u001b[0;34m=\u001b[0m \u001b[0mestimator1\u001b[0m\u001b[0;34m.\u001b[0m\u001b[0mtrain\u001b[0m\u001b[0;34m(\u001b[0m\u001b[0mtrain_artificial\u001b[0m\u001b[0;34m)\u001b[0m\u001b[0;34m\u001b[0m\u001b[0;34m\u001b[0m\u001b[0m\n\u001b[0m",
            "\u001b[0;32m/usr/local/lib/python3.6/dist-packages/gluonts/model/estimator.py\u001b[0m in \u001b[0;36mtrain\u001b[0;34m(self, training_data, validation_data)\u001b[0m\n\u001b[1;32m    221\u001b[0m         \u001b[0mself\u001b[0m\u001b[0;34m,\u001b[0m \u001b[0mtraining_data\u001b[0m\u001b[0;34m:\u001b[0m \u001b[0mDataset\u001b[0m\u001b[0;34m,\u001b[0m \u001b[0mvalidation_data\u001b[0m\u001b[0;34m:\u001b[0m \u001b[0mOptional\u001b[0m\u001b[0;34m[\u001b[0m\u001b[0mDataset\u001b[0m\u001b[0;34m]\u001b[0m \u001b[0;34m=\u001b[0m \u001b[0;32mNone\u001b[0m\u001b[0;34m\u001b[0m\u001b[0;34m\u001b[0m\u001b[0m\n\u001b[1;32m    222\u001b[0m     ) -> Predictor:\n\u001b[0;32m--> 223\u001b[0;31m         \u001b[0;32mreturn\u001b[0m \u001b[0mself\u001b[0m\u001b[0;34m.\u001b[0m\u001b[0mtrain_model\u001b[0m\u001b[0;34m(\u001b[0m\u001b[0mtraining_data\u001b[0m\u001b[0;34m,\u001b[0m \u001b[0mvalidation_data\u001b[0m\u001b[0;34m)\u001b[0m\u001b[0;34m.\u001b[0m\u001b[0mpredictor\u001b[0m\u001b[0;34m\u001b[0m\u001b[0;34m\u001b[0m\u001b[0m\n\u001b[0m",
            "\u001b[0;32m/usr/local/lib/python3.6/dist-packages/gluonts/model/estimator.py\u001b[0m in \u001b[0;36mtrain_model\u001b[0;34m(self, training_data, validation_data)\u001b[0m\n\u001b[1;32m    206\u001b[0m             \u001b[0minput_names\u001b[0m\u001b[0;34m=\u001b[0m\u001b[0mget_hybrid_forward_input_names\u001b[0m\u001b[0;34m(\u001b[0m\u001b[0mtrained_net\u001b[0m\u001b[0;34m)\u001b[0m\u001b[0;34m,\u001b[0m\u001b[0;34m\u001b[0m\u001b[0;34m\u001b[0m\u001b[0m\n\u001b[1;32m    207\u001b[0m             \u001b[0mtrain_iter\u001b[0m\u001b[0;34m=\u001b[0m\u001b[0mtraining_data_loader\u001b[0m\u001b[0;34m,\u001b[0m\u001b[0;34m\u001b[0m\u001b[0;34m\u001b[0m\u001b[0m\n\u001b[0;32m--> 208\u001b[0;31m             \u001b[0mvalidation_iter\u001b[0m\u001b[0;34m=\u001b[0m\u001b[0mvalidation_data_loader\u001b[0m\u001b[0;34m,\u001b[0m\u001b[0;34m\u001b[0m\u001b[0;34m\u001b[0m\u001b[0m\n\u001b[0m\u001b[1;32m    209\u001b[0m         )\n\u001b[1;32m    210\u001b[0m \u001b[0;34m\u001b[0m\u001b[0m\n",
            "\u001b[0;32m/usr/local/lib/python3.6/dist-packages/gluonts/trainer/_base.py\u001b[0m in \u001b[0;36m__call__\u001b[0;34m(self, net, input_names, train_iter, validation_iter)\u001b[0m\n\u001b[1;32m    295\u001b[0m                     )\n\u001b[1;32m    296\u001b[0m \u001b[0;34m\u001b[0m\u001b[0m\n\u001b[0;32m--> 297\u001b[0;31m                     \u001b[0mepoch_loss\u001b[0m \u001b[0;34m=\u001b[0m \u001b[0mloop\u001b[0m\u001b[0;34m(\u001b[0m\u001b[0mepoch_no\u001b[0m\u001b[0;34m,\u001b[0m \u001b[0mtrain_iter\u001b[0m\u001b[0;34m)\u001b[0m\u001b[0;34m\u001b[0m\u001b[0;34m\u001b[0m\u001b[0m\n\u001b[0m\u001b[1;32m    298\u001b[0m                     \u001b[0;32mif\u001b[0m \u001b[0mis_validation_available\u001b[0m\u001b[0;34m:\u001b[0m\u001b[0;34m\u001b[0m\u001b[0;34m\u001b[0m\u001b[0m\n\u001b[1;32m    299\u001b[0m                         epoch_loss = loop(\n",
            "\u001b[0;32m/usr/local/lib/python3.6/dist-packages/gluonts/trainer/_base.py\u001b[0m in \u001b[0;36mloop\u001b[0;34m(epoch_no, batch_iter, is_training)\u001b[0m\n\u001b[1;32m    228\u001b[0m \u001b[0;34m\u001b[0m\u001b[0m\n\u001b[1;32m    229\u001b[0m                     \u001b[0;32mwith\u001b[0m \u001b[0mtqdm\u001b[0m\u001b[0;34m(\u001b[0m\u001b[0mbatch_iter\u001b[0m\u001b[0;34m)\u001b[0m \u001b[0;32mas\u001b[0m \u001b[0mit\u001b[0m\u001b[0;34m:\u001b[0m\u001b[0;34m\u001b[0m\u001b[0;34m\u001b[0m\u001b[0m\n\u001b[0;32m--> 230\u001b[0;31m                         \u001b[0;32mfor\u001b[0m \u001b[0mbatch_no\u001b[0m\u001b[0;34m,\u001b[0m \u001b[0mdata_entry\u001b[0m \u001b[0;32min\u001b[0m \u001b[0menumerate\u001b[0m\u001b[0;34m(\u001b[0m\u001b[0mit\u001b[0m\u001b[0;34m,\u001b[0m \u001b[0mstart\u001b[0m\u001b[0;34m=\u001b[0m\u001b[0;36m1\u001b[0m\u001b[0;34m)\u001b[0m\u001b[0;34m:\u001b[0m\u001b[0;34m\u001b[0m\u001b[0;34m\u001b[0m\u001b[0m\n\u001b[0m\u001b[1;32m    231\u001b[0m                             \u001b[0;32mif\u001b[0m \u001b[0mself\u001b[0m\u001b[0;34m.\u001b[0m\u001b[0mhalt\u001b[0m\u001b[0;34m:\u001b[0m\u001b[0;34m\u001b[0m\u001b[0;34m\u001b[0m\u001b[0m\n\u001b[1;32m    232\u001b[0m                                 \u001b[0;32mbreak\u001b[0m\u001b[0;34m\u001b[0m\u001b[0;34m\u001b[0m\u001b[0m\n",
            "\u001b[0;32m/usr/local/lib/python3.6/dist-packages/tqdm/std.py\u001b[0m in \u001b[0;36m__iter__\u001b[0;34m(self)\u001b[0m\n\u001b[1;32m   1089\u001b[0m             \"\"\"), fp_write=getattr(self.fp, 'write', sys.stderr.write))\n\u001b[1;32m   1090\u001b[0m \u001b[0;34m\u001b[0m\u001b[0m\n\u001b[0;32m-> 1091\u001b[0;31m         \u001b[0;32mfor\u001b[0m \u001b[0mobj\u001b[0m \u001b[0;32min\u001b[0m \u001b[0miterable\u001b[0m\u001b[0;34m:\u001b[0m\u001b[0;34m\u001b[0m\u001b[0;34m\u001b[0m\u001b[0m\n\u001b[0m\u001b[1;32m   1092\u001b[0m             \u001b[0;32myield\u001b[0m \u001b[0mobj\u001b[0m\u001b[0;34m\u001b[0m\u001b[0;34m\u001b[0m\u001b[0m\n\u001b[1;32m   1093\u001b[0m             \u001b[0;31m# Update and possibly print the progressbar.\u001b[0m\u001b[0;34m\u001b[0m\u001b[0;34m\u001b[0m\u001b[0;34m\u001b[0m\u001b[0m\n",
            "\u001b[0;32m/usr/local/lib/python3.6/dist-packages/gluonts/dataset/loader.py\u001b[0m in \u001b[0;36m__iter__\u001b[0;34m(self)\u001b[0m\n\u001b[1;32m    190\u001b[0m         \u001b[0;32massert\u001b[0m \u001b[0mself\u001b[0m\u001b[0;34m.\u001b[0m\u001b[0m_cur_iter\u001b[0m \u001b[0;32mis\u001b[0m \u001b[0;32mnot\u001b[0m \u001b[0;32mNone\u001b[0m\u001b[0;34m\u001b[0m\u001b[0;34m\u001b[0m\u001b[0m\n\u001b[1;32m    191\u001b[0m         \u001b[0;32mwhile\u001b[0m \u001b[0;32mTrue\u001b[0m\u001b[0;34m:\u001b[0m\u001b[0;34m\u001b[0m\u001b[0;34m\u001b[0m\u001b[0m\n\u001b[0;32m--> 192\u001b[0;31m             \u001b[0mdata_entry\u001b[0m \u001b[0;34m=\u001b[0m \u001b[0mnext\u001b[0m\u001b[0;34m(\u001b[0m\u001b[0mself\u001b[0m\u001b[0;34m.\u001b[0m\u001b[0m_cur_iter\u001b[0m\u001b[0;34m)\u001b[0m\u001b[0;34m\u001b[0m\u001b[0;34m\u001b[0m\u001b[0m\n\u001b[0m\u001b[1;32m    193\u001b[0m             \u001b[0mself\u001b[0m\u001b[0;34m.\u001b[0m\u001b[0m_buffer\u001b[0m\u001b[0;34m.\u001b[0m\u001b[0madd\u001b[0m\u001b[0;34m(\u001b[0m\u001b[0mdata_entry\u001b[0m\u001b[0;34m)\u001b[0m\u001b[0;34m\u001b[0m\u001b[0;34m\u001b[0m\u001b[0m\n\u001b[1;32m    194\u001b[0m             if (\n",
            "\u001b[0;32m/usr/local/lib/python3.6/dist-packages/gluonts/transform.py\u001b[0m in \u001b[0;36m__call__\u001b[0;34m(self, data_it, is_train)\u001b[0m\n\u001b[1;32m    334\u001b[0m             \u001b[0;32mif\u001b[0m \u001b[0mnum_idle_transforms\u001b[0m \u001b[0;34m>\u001b[0m \u001b[0mGLUONTS_MAX_IDLE_TRANSFORMS\u001b[0m\u001b[0;34m:\u001b[0m\u001b[0;34m\u001b[0m\u001b[0;34m\u001b[0m\u001b[0m\n\u001b[1;32m    335\u001b[0m                 raise Exception(\n\u001b[0;32m--> 336\u001b[0;31m                     \u001b[0;34mf\"Reached maximum number of idle transformation calls.\\n\"\u001b[0m\u001b[0;34m\u001b[0m\u001b[0;34m\u001b[0m\u001b[0m\n\u001b[0m\u001b[1;32m    337\u001b[0m                     \u001b[0;34mf\"This means the transformation looped over \"\u001b[0m\u001b[0;34m\u001b[0m\u001b[0;34m\u001b[0m\u001b[0m\n\u001b[1;32m    338\u001b[0m                     \u001b[0;34mf\"GLUONTS_MAX_IDLE_TRANSFORMS={GLUONTS_MAX_IDLE_TRANSFORMS} \"\u001b[0m\u001b[0;34m\u001b[0m\u001b[0;34m\u001b[0m\u001b[0m\n",
            "\u001b[0;31mException\u001b[0m: Reached maximum number of idle transformation calls.\nThis means the transformation looped over GLUONTS_MAX_IDLE_TRANSFORMS=100 inputs without returning any output.\nThis occurred in the following transformation:\ngluonts.transform.InstanceSplitter(forecast_start_field=\"forecast_start\", future_length=3000, is_pad_field=\"is_pad\", output_NTC=True, past_length=6000, pick_incomplete=True, start_field=\"start\", target_field=\"target\", time_series_fields=None, train_sampler=gluonts.transform.ExpectedNumInstanceSampler(num_instances=1.0))"
          ]
        }
      ]
    },
    {
      "cell_type": "code",
      "metadata": {
        "id": "gtHjd1V3-QG7",
        "colab_type": "code",
        "colab": {}
      },
      "source": [
        "#train_series = to_pandas()"
      ],
      "execution_count": 0,
      "outputs": []
    },
    {
      "cell_type": "code",
      "metadata": {
        "id": "0ovOObWT5Kzv",
        "colab_type": "code",
        "outputId": "7438cd66-2c77-42a2-b6ca-27c08acae401",
        "colab": {
          "base_uri": "https://localhost:8080/",
          "height": 478
        }
      },
      "source": [
        "# custom 1b -> next step \n",
        "# custom step 2 b\n",
        "\n",
        "import mxnet as mx\n",
        "pred_length = 20\n",
        "estimator1 = MyEstimator1(prediction_length= pred_length, context_length=2*pred_length, freq=\"1H\",num_cells=10, trainer=Trainer(ctx=\"cpu\", epochs=5, learning_rate=1e-3, hybridize=False, num_batches_per_epoch=20))\n",
        "\n",
        "predictor1 = estimator1.train(norm_training_data_neweng) # training_data_neweng"
      ],
      "execution_count": 49,
      "outputs": [
        {
          "output_type": "stream",
          "text": [
            "INFO:root:Start model training\n",
            "INFO:root:Epoch[0] Learning rate is 0.001\n",
            "  0%|          | 0/20 [00:00<?, ?it/s]INFO:root:Number of parameters in MyTrainNetwork1: 850\n",
            "100%|██████████| 20/20 [00:00<00:00, 106.57it/s, avg_epoch_loss=0.488]\n",
            "INFO:root:Epoch[0] Elapsed time 0.190 seconds\n",
            "INFO:root:Epoch[0] Evaluation metric 'epoch_loss'=0.487702\n"
          ],
          "name": "stderr"
        },
        {
          "output_type": "stream",
          "text": [
            "learning rate from ``lr_scheduler`` has been overwritten by ``learning_rate`` in optimizer.\n"
          ],
          "name": "stdout"
        },
        {
          "output_type": "stream",
          "text": [
            "INFO:root:Epoch[1] Learning rate is 0.001\n",
            "100%|██████████| 20/20 [00:00<00:00, 115.11it/s, avg_epoch_loss=0.46]\n",
            "INFO:root:Epoch[1] Elapsed time 0.178 seconds\n",
            "INFO:root:Epoch[1] Evaluation metric 'epoch_loss'=0.459784\n",
            "INFO:root:Epoch[2] Learning rate is 0.001\n",
            "100%|██████████| 20/20 [00:00<00:00, 119.76it/s, avg_epoch_loss=0.424]\n",
            "INFO:root:Epoch[2] Elapsed time 0.178 seconds\n",
            "INFO:root:Epoch[2] Evaluation metric 'epoch_loss'=0.423977\n",
            "INFO:root:Epoch[3] Learning rate is 0.001\n",
            "100%|██████████| 20/20 [00:00<00:00, 116.47it/s, avg_epoch_loss=0.386]\n",
            "INFO:root:Epoch[3] Elapsed time 0.175 seconds\n",
            "INFO:root:Epoch[3] Evaluation metric 'epoch_loss'=0.385940\n",
            "INFO:root:Epoch[4] Learning rate is 0.001\n",
            "100%|██████████| 20/20 [00:00<00:00, 113.68it/s, avg_epoch_loss=0.345]\n",
            "INFO:root:Epoch[4] Elapsed time 0.181 seconds\n",
            "INFO:root:Epoch[4] Evaluation metric 'epoch_loss'=0.345108\n",
            "INFO:root:Loading parameters from best epoch (4)\n",
            "INFO:root:Final loss: 0.3451076313853264 (occurred at epoch 4)\n",
            "INFO:root:End model training\n"
          ],
          "name": "stderr"
        }
      ]
    },
    {
      "cell_type": "code",
      "metadata": {
        "id": "iBF05M5X_eHR",
        "colab_type": "code",
        "colab": {}
      },
      "source": [
        "# step 3 b\n",
        "\n",
        "from gluonts.evaluation.backtest import make_evaluation_predictions\n",
        "\n",
        "forecast_it, ts_it = make_evaluation_predictions(\n",
        "    dataset=test_caiso_1_dataset,  # test dataset \n",
        "    predictor=predictor1,  # predictor\n",
        "    num_samples=30,  # number of sample paths we want for evaluation\n",
        ")"
      ],
      "execution_count": 0,
      "outputs": []
    },
    {
      "cell_type": "code",
      "metadata": {
        "id": "YK-6Rf1Om-Hg",
        "colab_type": "code",
        "colab": {}
      },
      "source": [
        "# step 3b new england\n",
        "\n",
        "from gluonts.evaluation.backtest import make_evaluation_predictions\n",
        "\n",
        "forecast_it, ts_it = make_evaluation_predictions(\n",
        "    dataset=norm_test_NE_dataset,  # test dataset; test_NE_dataset\n",
        "    predictor=predictor1,  # predictor\n",
        "    num_samples=30,  # number of sample paths we want for evaluation\n",
        ")\n",
        "\n"
      ],
      "execution_count": 0,
      "outputs": []
    },
    {
      "cell_type": "code",
      "metadata": {
        "id": "h-LqJj9__zuZ",
        "colab_type": "code",
        "colab": {}
      },
      "source": [
        "# step 3b\n",
        "forecasts = list(forecast_it)\n",
        "tss = list(ts_it)"
      ],
      "execution_count": 0,
      "outputs": []
    },
    {
      "cell_type": "code",
      "metadata": {
        "id": "vYoA7VRPou1Z",
        "colab_type": "code",
        "colab": {
          "base_uri": "https://localhost:8080/",
          "height": 34
        },
        "outputId": "f7cfa799-f23b-4fb2-e254-9712bd75d33f"
      },
      "source": [
        "from gluonts.evaluation import Evaluator\n",
        "# step 3b 2 metrics\n",
        "evaluator = Evaluator(quantiles=[0.1, 0.5, 0.9])\n",
        "agg_metrics, item_metrics = evaluator(iter(tss), iter(forecasts), num_series=len(test_NE_dataset))"
      ],
      "execution_count": 52,
      "outputs": [
        {
          "output_type": "stream",
          "text": [
            "Running evaluation: 100%|██████████| 1/1 [00:00<00:00, 65.47it/s]\n"
          ],
          "name": "stderr"
        }
      ]
    },
    {
      "cell_type": "code",
      "metadata": {
        "id": "pFgPuyTQo8cA",
        "colab_type": "code",
        "colab": {
          "base_uri": "https://localhost:8080/",
          "height": 97
        },
        "outputId": "c437a394-6fd8-49cd-8dfd-724fb43df96f"
      },
      "source": [
        "item_metrics.head()"
      ],
      "execution_count": 53,
      "outputs": [
        {
          "output_type": "execute_result",
          "data": {
            "text/html": [
              "<div>\n",
              "<style scoped>\n",
              "    .dataframe tbody tr th:only-of-type {\n",
              "        vertical-align: middle;\n",
              "    }\n",
              "\n",
              "    .dataframe tbody tr th {\n",
              "        vertical-align: top;\n",
              "    }\n",
              "\n",
              "    .dataframe thead th {\n",
              "        text-align: right;\n",
              "    }\n",
              "</style>\n",
              "<table border=\"1\" class=\"dataframe\">\n",
              "  <thead>\n",
              "    <tr style=\"text-align: right;\">\n",
              "      <th></th>\n",
              "      <th>item_id</th>\n",
              "      <th>MSE</th>\n",
              "      <th>abs_error</th>\n",
              "      <th>abs_target_sum</th>\n",
              "      <th>abs_target_mean</th>\n",
              "      <th>seasonal_error</th>\n",
              "      <th>MASE</th>\n",
              "      <th>sMAPE</th>\n",
              "      <th>MSIS</th>\n",
              "      <th>QuantileLoss[0.1]</th>\n",
              "      <th>Coverage[0.1]</th>\n",
              "      <th>QuantileLoss[0.5]</th>\n",
              "      <th>Coverage[0.5]</th>\n",
              "      <th>QuantileLoss[0.9]</th>\n",
              "      <th>Coverage[0.9]</th>\n",
              "    </tr>\n",
              "  </thead>\n",
              "  <tbody>\n",
              "    <tr>\n",
              "      <th>0</th>\n",
              "      <td>NaN</td>\n",
              "      <td>0.240951</td>\n",
              "      <td>9.181615</td>\n",
              "      <td>6.394384</td>\n",
              "      <td>0.319719</td>\n",
              "      <td>0.003098</td>\n",
              "      <td>148.172867</td>\n",
              "      <td>1.456122</td>\n",
              "      <td>5926.91405</td>\n",
              "      <td>11.310935</td>\n",
              "      <td>0.7</td>\n",
              "      <td>9.181615</td>\n",
              "      <td>0.7</td>\n",
              "      <td>7.052294</td>\n",
              "      <td>0.7</td>\n",
              "    </tr>\n",
              "  </tbody>\n",
              "</table>\n",
              "</div>"
            ],
            "text/plain": [
              "   item_id       MSE  ...  QuantileLoss[0.9]  Coverage[0.9]\n",
              "0      NaN  0.240951  ...           7.052294            0.7\n",
              "\n",
              "[1 rows x 15 columns]"
            ]
          },
          "metadata": {
            "tags": []
          },
          "execution_count": 53
        }
      ]
    },
    {
      "cell_type": "code",
      "metadata": {
        "id": "Z9O-wuozlFAw",
        "colab_type": "code",
        "colab": {}
      },
      "source": [
        "#tss"
      ],
      "execution_count": 0,
      "outputs": []
    },
    {
      "cell_type": "code",
      "metadata": {
        "id": "EGzuyqztk-Fn",
        "colab_type": "code",
        "outputId": "7a28ba5a-c406-41e2-eece-12d18a9b9cca",
        "colab": {
          "base_uri": "https://localhost:8080/",
          "height": 34
        }
      },
      "source": [
        "# step 3b 2\n",
        "import numpy as np\n",
        "ts_entry = tss[0]\n",
        "np.array(ts_entry[:5]).reshape(-1,)"
      ],
      "execution_count": 26,
      "outputs": [
        {
          "output_type": "execute_result",
          "data": {
            "text/plain": [
              "array([-35., -37., -37., -37., -37.], dtype=float32)"
            ]
          },
          "metadata": {
            "tags": []
          },
          "execution_count": 26
        }
      ]
    },
    {
      "cell_type": "code",
      "metadata": {
        "id": "J_F_rCDZn0OE",
        "colab_type": "code",
        "colab": {
          "base_uri": "https://localhost:8080/",
          "height": 34
        },
        "outputId": "4cd614a5-3c44-452f-b2e8-32a85aa88d3b"
      },
      "source": [
        "# new england\n",
        "test_ds_entry = next(iter(test_NE_dataset))\n",
        "\n",
        "test_ds_entry['target'][:5]"
      ],
      "execution_count": 28,
      "outputs": [
        {
          "output_type": "execute_result",
          "data": {
            "text/plain": [
              "array([-35., -37., -37., -37., -37.], dtype=float32)"
            ]
          },
          "metadata": {
            "tags": []
          },
          "execution_count": 28
        }
      ]
    },
    {
      "cell_type": "code",
      "metadata": {
        "id": "baOhC2NQlSZg",
        "colab_type": "code",
        "outputId": "18e03e7f-7a0e-4725-fec9-519360a8c700",
        "colab": {
          "base_uri": "https://localhost:8080/",
          "height": 186
        }
      },
      "source": [
        "test_ds_entry = next(iter(test_caiso_1_dataset))\n",
        "test_ds_entry['target'][:5]\n",
        "\n",
        "\n"
      ],
      "execution_count": 27,
      "outputs": [
        {
          "output_type": "error",
          "ename": "NameError",
          "evalue": "ignored",
          "traceback": [
            "\u001b[0;31m---------------------------------------------------------------------------\u001b[0m",
            "\u001b[0;31mNameError\u001b[0m                                 Traceback (most recent call last)",
            "\u001b[0;32m<ipython-input-27-0bd4302f3c7c>\u001b[0m in \u001b[0;36m<module>\u001b[0;34m()\u001b[0m\n\u001b[0;32m----> 1\u001b[0;31m \u001b[0mtest_ds_entry\u001b[0m \u001b[0;34m=\u001b[0m \u001b[0mnext\u001b[0m\u001b[0;34m(\u001b[0m\u001b[0miter\u001b[0m\u001b[0;34m(\u001b[0m\u001b[0mtest_caiso_1_dataset\u001b[0m\u001b[0;34m)\u001b[0m\u001b[0;34m)\u001b[0m\u001b[0;34m\u001b[0m\u001b[0;34m\u001b[0m\u001b[0m\n\u001b[0m\u001b[1;32m      2\u001b[0m \u001b[0mtest_ds_entry\u001b[0m\u001b[0;34m[\u001b[0m\u001b[0;34m'target'\u001b[0m\u001b[0;34m]\u001b[0m\u001b[0;34m[\u001b[0m\u001b[0;34m:\u001b[0m\u001b[0;36m5\u001b[0m\u001b[0;34m]\u001b[0m\u001b[0;34m\u001b[0m\u001b[0;34m\u001b[0m\u001b[0m\n",
            "\u001b[0;31mNameError\u001b[0m: name 'test_caiso_1_dataset' is not defined"
          ]
        }
      ]
    },
    {
      "cell_type": "code",
      "metadata": {
        "id": "SwnUQ1EJld51",
        "colab_type": "code",
        "colab": {}
      },
      "source": [
        "forecast_entry= forecasts[0]"
      ],
      "execution_count": 0,
      "outputs": []
    },
    {
      "cell_type": "code",
      "metadata": {
        "id": "_541ur_Wln6t",
        "colab_type": "code",
        "outputId": "428eeb8b-7c30-4dad-e73b-c68f1119533a",
        "colab": {
          "base_uri": "https://localhost:8080/",
          "height": 123
        }
      },
      "source": [
        "forecast_entry.quantile(0.5)"
      ],
      "execution_count": 30,
      "outputs": [
        {
          "output_type": "execute_result",
          "data": {
            "text/plain": [
              "array([0.0000000e+00, 0.0000000e+00, 0.0000000e+00, 0.0000000e+00,\n",
              "       0.0000000e+00, 0.0000000e+00, 3.9550808e-40, 0.0000000e+00,\n",
              "       0.0000000e+00, 3.9040244e+02, 0.0000000e+00, 1.0401949e+03,\n",
              "       2.5727073e+03, 0.0000000e+00, 0.0000000e+00, 1.1810079e+03,\n",
              "       2.2779414e+03, 0.0000000e+00, 1.2681381e+03, 0.0000000e+00],\n",
              "      dtype=float32)"
            ]
          },
          "metadata": {
            "tags": []
          },
          "execution_count": 30
        }
      ]
    },
    {
      "cell_type": "code",
      "metadata": {
        "id": "8uDiKhrFmSt6",
        "colab_type": "code",
        "colab": {
          "base_uri": "https://localhost:8080/",
          "height": 87
        },
        "outputId": "60ce5ff3-9abb-4a21-95de-23da8c4e7032"
      },
      "source": [
        "# calculate error for the mean \n",
        "fmean = forecast_entry.mean\n",
        "print(fmean)\n",
        "# calculate the loss for all the values "
      ],
      "execution_count": 32,
      "outputs": [
        {
          "output_type": "stream",
          "text": [
            "[0.0000000e+00 0.0000000e+00 0.0000000e+00 0.0000000e+00 0.0000000e+00\n",
            " 0.0000000e+00 3.9550808e-40 0.0000000e+00 0.0000000e+00 3.9040237e+02\n",
            " 0.0000000e+00 1.0401952e+03 2.5727078e+03 0.0000000e+00 0.0000000e+00\n",
            " 1.1810079e+03 2.2779412e+03 0.0000000e+00 1.2681381e+03 0.0000000e+00]\n"
          ],
          "name": "stdout"
        }
      ]
    },
    {
      "cell_type": "code",
      "metadata": {
        "id": "MJ4HC5VJmjXK",
        "colab_type": "code",
        "colab": {}
      },
      "source": [
        "# try to plot it "
      ],
      "execution_count": 0,
      "outputs": []
    },
    {
      "cell_type": "code",
      "metadata": {
        "id": "AJ9Hqh6TgOrW",
        "colab_type": "code",
        "colab": {}
      },
      "source": [
        "# 3c\n",
        "\n",
        "p1 = predictor1.predict(test_caiso_1_dataset, num_samples=30)"
      ],
      "execution_count": 0,
      "outputs": []
    },
    {
      "cell_type": "code",
      "metadata": {
        "id": "HYL7bNDzkeAY",
        "colab_type": "code",
        "colab": {}
      },
      "source": [
        "p1_list= list(p1)"
      ],
      "execution_count": 0,
      "outputs": []
    },
    {
      "cell_type": "code",
      "metadata": {
        "id": "sz8rjVA9khT6",
        "colab_type": "code",
        "outputId": "93bc7419-33e3-47cc-f637-eb910d80f8ec",
        "colab": {
          "base_uri": "https://localhost:8080/",
          "height": 168
        }
      },
      "source": [
        "p1_list[1]"
      ],
      "execution_count": 0,
      "outputs": [
        {
          "output_type": "error",
          "ename": "IndexError",
          "evalue": "ignored",
          "traceback": [
            "\u001b[0;31m---------------------------------------------------------------------------\u001b[0m",
            "\u001b[0;31mIndexError\u001b[0m                                Traceback (most recent call last)",
            "\u001b[0;32m<ipython-input-23-30d08e7ed959>\u001b[0m in \u001b[0;36m<module>\u001b[0;34m()\u001b[0m\n\u001b[0;32m----> 1\u001b[0;31m \u001b[0mp1_list\u001b[0m\u001b[0;34m[\u001b[0m\u001b[0;36m1\u001b[0m\u001b[0;34m]\u001b[0m\u001b[0;34m\u001b[0m\u001b[0;34m\u001b[0m\u001b[0m\n\u001b[0m",
            "\u001b[0;31mIndexError\u001b[0m: list index out of range"
          ]
        }
      ]
    },
    {
      "cell_type": "code",
      "metadata": {
        "id": "fA8tMLVk_4hn",
        "colab_type": "code",
        "outputId": "5d55efd4-6177-4a69-83a0-d07e88a6fbe5",
        "colab": {
          "base_uri": "https://localhost:8080/",
          "height": 406
        }
      },
      "source": [
        "tss[0]"
      ],
      "execution_count": 0,
      "outputs": [
        {
          "output_type": "execute_result",
          "data": {
            "text/html": [
              "<div>\n",
              "<style scoped>\n",
              "    .dataframe tbody tr th:only-of-type {\n",
              "        vertical-align: middle;\n",
              "    }\n",
              "\n",
              "    .dataframe tbody tr th {\n",
              "        vertical-align: top;\n",
              "    }\n",
              "\n",
              "    .dataframe thead th {\n",
              "        text-align: right;\n",
              "    }\n",
              "</style>\n",
              "<table border=\"1\" class=\"dataframe\">\n",
              "  <thead>\n",
              "    <tr style=\"text-align: right;\">\n",
              "      <th></th>\n",
              "      <th>0</th>\n",
              "    </tr>\n",
              "  </thead>\n",
              "  <tbody>\n",
              "    <tr>\n",
              "      <th>2019-01-24 15:00:00</th>\n",
              "      <td>1921.666992</td>\n",
              "    </tr>\n",
              "    <tr>\n",
              "      <th>2019-01-24 16:00:00</th>\n",
              "      <td>-8.667000</td>\n",
              "    </tr>\n",
              "    <tr>\n",
              "      <th>2019-01-24 17:00:00</th>\n",
              "      <td>-1.667000</td>\n",
              "    </tr>\n",
              "    <tr>\n",
              "      <th>2019-01-24 18:00:00</th>\n",
              "      <td>651.000000</td>\n",
              "    </tr>\n",
              "    <tr>\n",
              "      <th>2019-01-24 19:00:00</th>\n",
              "      <td>8.667000</td>\n",
              "    </tr>\n",
              "    <tr>\n",
              "      <th>...</th>\n",
              "      <td>...</td>\n",
              "    </tr>\n",
              "    <tr>\n",
              "      <th>2019-02-05 22:00:00</th>\n",
              "      <td>-3.667000</td>\n",
              "    </tr>\n",
              "    <tr>\n",
              "      <th>2019-02-05 23:00:00</th>\n",
              "      <td>89.667000</td>\n",
              "    </tr>\n",
              "    <tr>\n",
              "      <th>2019-02-06 00:00:00</th>\n",
              "      <td>-5.667000</td>\n",
              "    </tr>\n",
              "    <tr>\n",
              "      <th>2019-02-06 01:00:00</th>\n",
              "      <td>-9.667000</td>\n",
              "    </tr>\n",
              "    <tr>\n",
              "      <th>2019-02-06 02:00:00</th>\n",
              "      <td>2295.333008</td>\n",
              "    </tr>\n",
              "  </tbody>\n",
              "</table>\n",
              "<p>300 rows × 1 columns</p>\n",
              "</div>"
            ],
            "text/plain": [
              "                               0\n",
              "2019-01-24 15:00:00  1921.666992\n",
              "2019-01-24 16:00:00    -8.667000\n",
              "2019-01-24 17:00:00    -1.667000\n",
              "2019-01-24 18:00:00   651.000000\n",
              "2019-01-24 19:00:00     8.667000\n",
              "...                          ...\n",
              "2019-02-05 22:00:00    -3.667000\n",
              "2019-02-05 23:00:00    89.667000\n",
              "2019-02-06 00:00:00    -5.667000\n",
              "2019-02-06 01:00:00    -9.667000\n",
              "2019-02-06 02:00:00  2295.333008\n",
              "\n",
              "[300 rows x 1 columns]"
            ]
          },
          "metadata": {
            "tags": []
          },
          "execution_count": 31
        }
      ]
    },
    {
      "cell_type": "code",
      "metadata": {
        "id": "-NH4_FAiYois",
        "colab_type": "code",
        "colab": {}
      },
      "source": [
        "# feature extraction again:\n",
        "\n",
        "# hierarchy \n",
        "\n",
        "#Weekends v. weekdays\n",
        "#Day of the week\n",
        "#Hour of the day\n",
        "\n",
        "# separate dataframe\n",
        "\n",
        "# all the mondays\n"
      ],
      "execution_count": 0,
      "outputs": []
    },
    {
      "cell_type": "code",
      "metadata": {
        "id": "i4D1WuSgpQSQ",
        "colab_type": "code",
        "colab": {}
      },
      "source": [
        "# step 4 \n",
        "# accuracy eval: MSE\n",
        "import numpy as np\n",
        "def root_mean_squared_error(y_true, y_pred):\n",
        "  return np.sqrt(np.mean(np.square(y_pred - y_true)))"
      ],
      "execution_count": 0,
      "outputs": []
    },
    {
      "cell_type": "code",
      "metadata": {
        "id": "lyBmyUo8rHLc",
        "colab_type": "code",
        "colab": {}
      },
      "source": [
        "# step 4b plot forecasts\n",
        "\n",
        "def plot_prob_forecasts(ts_entry, forecast_entry):\n",
        "    plot_length = 150\n",
        "    prediction_intervals = (50.0, 90.0)\n",
        "    legend = [\"observations\", \"median prediction\"] + [f\"{k}% prediction interval\" for k in prediction_intervals][::-1]\n",
        "\n",
        "    fig, ax = plt.subplots(1, 1, figsize=(10, 7))\n",
        "    ts_entry[-plot_length:].plot(ax=ax)  # plot the time series\n",
        "    forecast_entry.plot(prediction_intervals=prediction_intervals, color='g')\n",
        "    plt.grid(which=\"both\")\n",
        "    plt.legend(legend, loc=\"upper left\")\n",
        "    plt.show()"
      ],
      "execution_count": 0,
      "outputs": []
    },
    {
      "cell_type": "code",
      "metadata": {
        "id": "DYW_ZGUprWr6",
        "colab_type": "code",
        "colab": {}
      },
      "source": [
        "# step 4c \n",
        "# metrics\n",
        "from gluonts.evaluation import Evaluator\n",
        "\n",
        "evaluator = Evaluator(quantiles=[0.1, 0.5, 0.9])\n",
        "agg_metrics, item_metrics = evaluator(iter(tss), iter(forecasts), num_series=len(test_ds))\n"
      ],
      "execution_count": 0,
      "outputs": []
    },
    {
      "cell_type": "code",
      "metadata": {
        "id": "z-wophQGA2fL",
        "colab_type": "code",
        "outputId": "90f23277-b574-40a2-ab69-021649ad51a5",
        "colab": {
          "base_uri": "https://localhost:8080/",
          "height": 186
        }
      },
      "source": [
        "forecasts[0]\n",
        "ts_entry = tss[0]"
      ],
      "execution_count": 0,
      "outputs": [
        {
          "output_type": "error",
          "ename": "IndexError",
          "evalue": "ignored",
          "traceback": [
            "\u001b[0;31m---------------------------------------------------------------------------\u001b[0m",
            "\u001b[0;31mIndexError\u001b[0m                                Traceback (most recent call last)",
            "\u001b[0;32m<ipython-input-22-274d2df73a91>\u001b[0m in \u001b[0;36m<module>\u001b[0;34m()\u001b[0m\n\u001b[1;32m      1\u001b[0m \u001b[0mforecasts\u001b[0m\u001b[0;34m[\u001b[0m\u001b[0;36m0\u001b[0m\u001b[0;34m]\u001b[0m\u001b[0;34m\u001b[0m\u001b[0;34m\u001b[0m\u001b[0m\n\u001b[0;32m----> 2\u001b[0;31m \u001b[0mts_entry\u001b[0m \u001b[0;34m=\u001b[0m \u001b[0mtss\u001b[0m\u001b[0;34m[\u001b[0m\u001b[0;36m0\u001b[0m\u001b[0;34m]\u001b[0m\u001b[0;34m\u001b[0m\u001b[0;34m\u001b[0m\u001b[0m\n\u001b[0m",
            "\u001b[0;31mIndexError\u001b[0m: list index out of range"
          ]
        }
      ]
    },
    {
      "cell_type": "markdown",
      "metadata": {
        "id": "VpqINeOGWE9N",
        "colab_type": "text"
      },
      "source": [
        "After defining the training and prediction network, as well as the estimator class, we can follow exactly the same steps as with the existing models, i.e., we can specify our estimator by passing all the required hyperparameters to the estimator class, train the estimator by invoking its train method to create a predictor, and finally use the make_evaluation_predictions function to generate our forecasts."
      ]
    },
    {
      "cell_type": "code",
      "metadata": {
        "id": "FWrAnrSOUxyj",
        "colab_type": "code",
        "colab": {}
      },
      "source": [
        "from mxnet import gluon\n",
        "from gluonts.model.estimator import GluonEstimator\n",
        "from gluonts.model.predictor import Predictor, RepresentableBlockPredictor\n",
        "from gluonts.trainer import Trainer\n",
        "from gluonts.transform import InstanceSplitter, Transformation, ExpectedNumInstanceSampler\n",
        "from gluonts.core.component import validated\n",
        "from gluonts.support.util import copy_parameters \n",
        "\n",
        "#  gluonts.block.cnn.CausalConv1D 1D causal temporal convolution\n",
        "\n",
        "\n",
        "\n",
        "class MyTrainNetwork(gluon.HybridBlock):\n",
        "\n",
        "    def __init__(self, prediction_length, cells, act_type, **kwargs):\n",
        "\n",
        "        super().__init__(**kwargs)\n",
        "\n",
        "        self.prediction_length = prediction_length\n",
        "\n",
        "        \n",
        "\n",
        "        with self.name_scope():\n",
        "\n",
        "            # set up a network that predicts the target\n",
        "\n",
        "            #self.nn = mx.gluon.nn.HybridSequential()\n",
        "\n",
        "            self.nn = gluon.nn.HybridSequential()    \n",
        "            self.nn.add(gluon.nn.Dense(units=self.prediction_length, activation='relu'))\n",
        "            self.nn.add(gluon.nn.Dense(units= 40, activation=act_type))\n",
        "            self.nn.add(mx.gluon.nn.Dense(units=self.prediction_length, activation = 'softrelu'))    \n",
        "\n",
        "    def hybrid_forward(self, F, past_target, future_target):\n",
        "\n",
        "        prediction = self.nn(past_target)\n",
        "        # calc L1 loss -> learn median\n",
        "        return(prediction - future_target).abs().mean(axis=-1)\n",
        "\n",
        "class MyPredNetwork(MyTrainNetwork):\n",
        "    # The prediction network only receives past_target and returns predictions\n",
        "    def hybrid_forward(self, F, past_target):\n",
        "        prediction = self.nn(past_target)\n",
        "        return prediction.expand_dims(axis=1)"
      ],
      "execution_count": 0,
      "outputs": []
    },
    {
      "cell_type": "markdown",
      "metadata": {
        "id": "nsxSjqQHVBXv",
        "colab_type": "text"
      },
      "source": [
        "try to write new estimator\n"
      ]
    },
    {
      "cell_type": "code",
      "metadata": {
        "id": "BswPRWoUVCpC",
        "colab_type": "code",
        "colab": {}
      },
      "source": [
        "class MyEstimator1(GluonEstimator):\n",
        "    @validated()\n",
        "    \n",
        "    def __init__(\n",
        "        self,\n",
        "        freq: str,\n",
        "        context_length: int,\n",
        "        prediction_length: int,\n",
        "        trainer: Trainer = Trainer()\n",
        "    ) -> None:\n",
        "        super().__init__(trainer=trainer)\n",
        "        self.context_length = context_length\n",
        "        self.prediction_length = prediction_length\n",
        "        self.freq = freq\n",
        "\n",
        "\n",
        "    def create_transformation(self):\n",
        "        # Feature transformation that the model uses for input.\n",
        "        # Here we use a transformation that randomly select training samples from all time series.\n",
        "        return InstanceSplitter(\n",
        "                    target_field=FieldName.TARGET,\n",
        "                    is_pad_field=FieldName.IS_PAD,\n",
        "                    start_field=FieldName.START,\n",
        "                    forecast_start_field=FieldName.FORECAST_START,\n",
        "                    train_sampler=ExpectedNumInstanceSampler(num_instances=1),\n",
        "                    past_length=self.context_length,\n",
        "                    future_length=self.prediction_length,\n",
        "                )\n",
        "\n",
        "    def create_training_network(self) -> MyTrainNetwork:\n",
        "        return MyTrainNetwork(\n",
        "            prediction_length=self.prediction_length\n",
        "        )\n",
        "\n",
        "    def create_predictor(\n",
        "        self, transformation: Transformation, trained_network: HybridBlock\n",
        "    ) -> Predictor:\n",
        "        prediction_network = MyPredNetwork(\n",
        "            prediction_length=self.prediction_length\n",
        "        )\n",
        "\n",
        "        copy_parameters(trained_network, prediction_network)\n",
        "\n",
        "        return RepresentableBlockPredictor(\n",
        "            input_transform=transformation,\n",
        "            prediction_net=prediction_network,\n",
        "            batch_size=self.trainer.batch_size,\n",
        "            freq=self.freq,\n",
        "            prediction_length=self.prediction_length,\n",
        "            ctx=self.trainer.ctx,\n",
        "        )"
      ],
      "execution_count": 0,
      "outputs": []
    },
    {
      "cell_type": "markdown",
      "metadata": {
        "id": "05rrpvKHWiBr",
        "colab_type": "text"
      },
      "source": [
        "extended forecasting tutorial\n",
        "\n",
        "https://github.com/awslabs/gluon-ts/blob/master/docs/examples/extended_forecasting_tutorial/extended_tutorial.md\n"
      ]
    },
    {
      "cell_type": "code",
      "metadata": {
        "id": "AwniaowbWjwu",
        "colab_type": "code",
        "colab": {}
      },
      "source": [
        "\n",
        "# create artificial data sets\n",
        "\n",
        "from gluonts.dataset.artificial._base import ComplexSeasonalTimeSeries\n",
        "from gluonts.dataset.common import ListDataset\n",
        "\n",
        "artificial_dataset = ComplexSeasonalTimeSeries(\n",
        "    num_series=30,\n",
        "    prediction_length=20,\n",
        "    freq_str=\"H\",\n",
        "    length_low=30,\n",
        "    length_high=200,\n",
        "    min_val=-10,\n",
        "    max_val=10000,\n",
        "    is_integer=False,\n",
        "    proportion_missing_values=0,\n",
        "    is_noise=True,\n",
        "    is_scale=True,\n",
        "    percentage_unique_timestamps=1,\n",
        "    is_out_of_bounds_date=True,\n",
        ")"
      ],
      "execution_count": 0,
      "outputs": []
    },
    {
      "cell_type": "markdown",
      "metadata": {
        "id": "RCMuuvTF3wxr",
        "colab_type": "text"
      },
      "source": [
        "custom gluon model:\n",
        "\n",
        "https://mxnet.apache.org/api/python/docs/tutorials/packages/gluon/blocks/save_load_params.html\n",
        "\n",
        "https://beta.mxnet.io/api/gluon/_autogen/mxnet.gluon.loss.TripletLoss.html\n",
        "\n",
        "https://mxnet.apache.org/api/python/docs/tutorials/packages/gluon/loss/loss.html\n",
        "\n",
        "innovate : sampling algorithm "
      ]
    },
    {
      "cell_type": "code",
      "metadata": {
        "id": "A1PV8AR6uAIe",
        "colab_type": "code",
        "colab": {}
      },
      "source": [
        "from mxnet.gluon.loss import TripletLoss"
      ],
      "execution_count": 0,
      "outputs": []
    },
    {
      "cell_type": "code",
      "metadata": {
        "id": "Tjfg5YqbaqqL",
        "colab_type": "code",
        "outputId": "32c5e577-3d19-4b9b-fdc1-ed2a698da754",
        "colab": {
          "base_uri": "https://localhost:8080/",
          "height": 311
        }
      },
      "source": [
        "import mxnet as mx"
      ],
      "execution_count": 0,
      "outputs": [
        {
          "output_type": "error",
          "ename": "ModuleNotFoundError",
          "evalue": "ignored",
          "traceback": [
            "\u001b[0;31m---------------------------------------------------------------------------\u001b[0m",
            "\u001b[0;31mModuleNotFoundError\u001b[0m                       Traceback (most recent call last)",
            "\u001b[0;32m<ipython-input-2-265f02e9c062>\u001b[0m in \u001b[0;36m<module>\u001b[0;34m()\u001b[0m\n\u001b[0;32m----> 1\u001b[0;31m \u001b[0;32mimport\u001b[0m \u001b[0mmxnet\u001b[0m \u001b[0;32mas\u001b[0m \u001b[0mmx\u001b[0m\u001b[0;34m\u001b[0m\u001b[0;34m\u001b[0m\u001b[0m\n\u001b[0m",
            "\u001b[0;31mModuleNotFoundError\u001b[0m: No module named 'mxnet'",
            "",
            "\u001b[0;31m---------------------------------------------------------------------------\u001b[0;32m\nNOTE: If your import is failing due to a missing package, you can\nmanually install dependencies using either !pip or !apt.\n\nTo view examples of installing some common dependencies, click the\n\"Open Examples\" button below.\n\u001b[0;31m---------------------------------------------------------------------------\u001b[0m\n"
          ]
        }
      ]
    },
    {
      "cell_type": "code",
      "metadata": {
        "id": "1wGfwcD0N_Ek",
        "colab_type": "code",
        "outputId": "64070557-0844-483d-d4c8-8427c5810c95",
        "colab": {
          "base_uri": "https://localhost:8080/",
          "height": 240
        }
      },
      "source": [
        "x = mx.nd.array([1,0,1,0,1,0])\n",
        "y = mx.nd.array([0,1,0,1,0,1])\n",
        "z = mx.nd.array([2,1,2,1,2,1])\n",
        "x1 = [0,0,0,0]\n",
        "y1= [1,1,1,1]\n",
        "z1 = [2,1,2,1]\n",
        "label = mx.nd.array(-1)\n",
        "triplet_loss = TripletLoss\n",
        "print(triplet_loss(x1,y1,z1))\n",
        "print(triplet_loss.summary)"
      ],
      "execution_count": 0,
      "outputs": [
        {
          "output_type": "error",
          "ename": "NameError",
          "evalue": "ignored",
          "traceback": [
            "\u001b[0;31m---------------------------------------------------------------------------\u001b[0m",
            "\u001b[0;31mNameError\u001b[0m                                 Traceback (most recent call last)",
            "\u001b[0;32m<ipython-input-1-057e66fca135>\u001b[0m in \u001b[0;36m<module>\u001b[0;34m()\u001b[0m\n\u001b[0;32m----> 1\u001b[0;31m \u001b[0mx\u001b[0m \u001b[0;34m=\u001b[0m \u001b[0mmx\u001b[0m\u001b[0;34m.\u001b[0m\u001b[0mnd\u001b[0m\u001b[0;34m.\u001b[0m\u001b[0marray\u001b[0m\u001b[0;34m(\u001b[0m\u001b[0;34m[\u001b[0m\u001b[0;36m1\u001b[0m\u001b[0;34m,\u001b[0m\u001b[0;36m0\u001b[0m\u001b[0;34m,\u001b[0m\u001b[0;36m1\u001b[0m\u001b[0;34m,\u001b[0m\u001b[0;36m0\u001b[0m\u001b[0;34m,\u001b[0m\u001b[0;36m1\u001b[0m\u001b[0;34m,\u001b[0m\u001b[0;36m0\u001b[0m\u001b[0;34m]\u001b[0m\u001b[0;34m)\u001b[0m\u001b[0;34m\u001b[0m\u001b[0;34m\u001b[0m\u001b[0m\n\u001b[0m\u001b[1;32m      2\u001b[0m \u001b[0my\u001b[0m \u001b[0;34m=\u001b[0m \u001b[0mmx\u001b[0m\u001b[0;34m.\u001b[0m\u001b[0mnd\u001b[0m\u001b[0;34m.\u001b[0m\u001b[0marray\u001b[0m\u001b[0;34m(\u001b[0m\u001b[0;34m[\u001b[0m\u001b[0;36m0\u001b[0m\u001b[0;34m,\u001b[0m\u001b[0;36m1\u001b[0m\u001b[0;34m,\u001b[0m\u001b[0;36m0\u001b[0m\u001b[0;34m,\u001b[0m\u001b[0;36m1\u001b[0m\u001b[0;34m,\u001b[0m\u001b[0;36m0\u001b[0m\u001b[0;34m,\u001b[0m\u001b[0;36m1\u001b[0m\u001b[0;34m]\u001b[0m\u001b[0;34m)\u001b[0m\u001b[0;34m\u001b[0m\u001b[0;34m\u001b[0m\u001b[0m\n\u001b[1;32m      3\u001b[0m \u001b[0mz\u001b[0m \u001b[0;34m=\u001b[0m \u001b[0mmx\u001b[0m\u001b[0;34m.\u001b[0m\u001b[0mnd\u001b[0m\u001b[0;34m.\u001b[0m\u001b[0marray\u001b[0m\u001b[0;34m(\u001b[0m\u001b[0;34m[\u001b[0m\u001b[0;36m2\u001b[0m\u001b[0;34m,\u001b[0m\u001b[0;36m1\u001b[0m\u001b[0;34m,\u001b[0m\u001b[0;36m2\u001b[0m\u001b[0;34m,\u001b[0m\u001b[0;36m1\u001b[0m\u001b[0;34m,\u001b[0m\u001b[0;36m2\u001b[0m\u001b[0;34m,\u001b[0m\u001b[0;36m1\u001b[0m\u001b[0;34m]\u001b[0m\u001b[0;34m)\u001b[0m\u001b[0;34m\u001b[0m\u001b[0;34m\u001b[0m\u001b[0m\n\u001b[1;32m      4\u001b[0m \u001b[0mx1\u001b[0m \u001b[0;34m=\u001b[0m \u001b[0;34m[\u001b[0m\u001b[0;36m0\u001b[0m\u001b[0;34m,\u001b[0m\u001b[0;36m0\u001b[0m\u001b[0;34m,\u001b[0m\u001b[0;36m0\u001b[0m\u001b[0;34m,\u001b[0m\u001b[0;36m0\u001b[0m\u001b[0;34m]\u001b[0m\u001b[0;34m\u001b[0m\u001b[0;34m\u001b[0m\u001b[0m\n\u001b[1;32m      5\u001b[0m \u001b[0my1\u001b[0m\u001b[0;34m=\u001b[0m \u001b[0;34m[\u001b[0m\u001b[0;36m1\u001b[0m\u001b[0;34m,\u001b[0m\u001b[0;36m1\u001b[0m\u001b[0;34m,\u001b[0m\u001b[0;36m1\u001b[0m\u001b[0;34m,\u001b[0m\u001b[0;36m1\u001b[0m\u001b[0;34m]\u001b[0m\u001b[0;34m\u001b[0m\u001b[0;34m\u001b[0m\u001b[0m\n",
            "\u001b[0;31mNameError\u001b[0m: name 'mx' is not defined"
          ]
        }
      ]
    },
    {
      "cell_type": "code",
      "metadata": {
        "id": "Ldn10SkfaR_z",
        "colab_type": "code",
        "colab": {}
      },
      "source": [
        "import math\n",
        "\n",
        "def sigmoid(x):\n",
        "  return 1 / (1 + math.exp(-x))\n",
        "\n",
        "def sigmoid_array(x):                                        \n",
        "   return 1 / (1 + np.exp(-x))\n",
        "\n",
        "mult_ratio = self.negative_penalty / self.nb_random_samples\n",
        "#custom triplet loss\n",
        "\n",
        "# Negative loss: -logsigmoid of minus the dot product between\n",
        "# anchor and negative representations\n",
        "def triplet_loss_foward(xref, xpos, xneg):\n",
        "  # xneg has several samples \n",
        "  loss= - sigmoid(np.dot(xref, xpos))\n",
        "  for i in range(num_random_samples):\n",
        "    loss = loss+mult_ratio*np.mean(- sigmoid(np.dot(xref, xneg[i])))"
      ],
      "execution_count": 0,
      "outputs": []
    },
    {
      "cell_type": "code",
      "metadata": {
        "id": "X5iFXbxIaUBE",
        "colab_type": "code",
        "colab": {}
      },
      "source": [
        "#custom quadruplet loss "
      ],
      "execution_count": 0,
      "outputs": []
    },
    {
      "cell_type": "code",
      "metadata": {
        "id": "BLNXn3fdfpB7",
        "colab_type": "code",
        "colab": {}
      },
      "source": [
        "# custom triplet loss function : beyond triplet loss: https://www.zpascal.net/cvpr2017/Chen_Beyond_Triplet_Loss_CVPR_2017_paper.pdf\n",
        "\n",
        "# what does loss function do ? \n",
        "\n",
        "# choose loss function from : https://mxnet.apache.org/api/python/docs/tutorials/packages/gluon/loss/loss.html\n",
        "\n",
        "# incorporate hierarchical struct into triplet loss ? \n",
        "#http://openaccess.thecvf.com/content_ECCV_2018/papers/Ge_Deep_Metric_Learning_ECCV_2018_paper.pdf\n",
        "\n",
        "# hierarchical loss?"
      ],
      "execution_count": 0,
      "outputs": []
    },
    {
      "cell_type": "code",
      "metadata": {
        "id": "C6lyI0M6LnOJ",
        "colab_type": "code",
        "colab": {}
      },
      "source": [
        "import mxnet \n",
        "from mxnet.symbol.contrib import ctc_loss"
      ],
      "execution_count": 0,
      "outputs": []
    },
    {
      "cell_type": "code",
      "metadata": {
        "id": "e0ooNoBPNHhU",
        "colab_type": "code",
        "outputId": "179e78c3-15ce-4d2e-cbf5-031b9b23d91a",
        "colab": {
          "base_uri": "https://localhost:8080/",
          "height": 295
        }
      },
      "source": [
        "import mxnet as mx\n",
        "x = mx.nd.array([1,0,1,0,1,0])\n",
        "y = mx.nd.array([1,0,1,0,1,0])\n",
        "ctc_loss(x,y)"
      ],
      "execution_count": 0,
      "outputs": [
        {
          "output_type": "error",
          "ename": "AssertionError",
          "evalue": "ignored",
          "traceback": [
            "\u001b[0;31m---------------------------------------------------------------------------\u001b[0m",
            "\u001b[0;31mAssertionError\u001b[0m                            Traceback (most recent call last)",
            "\u001b[0;32m<ipython-input-6-ca67c1f79936>\u001b[0m in \u001b[0;36m<module>\u001b[0;34m()\u001b[0m\n\u001b[1;32m      2\u001b[0m \u001b[0mx\u001b[0m \u001b[0;34m=\u001b[0m \u001b[0mmx\u001b[0m\u001b[0;34m.\u001b[0m\u001b[0mnd\u001b[0m\u001b[0;34m.\u001b[0m\u001b[0marray\u001b[0m\u001b[0;34m(\u001b[0m\u001b[0;34m[\u001b[0m\u001b[0;36m1\u001b[0m\u001b[0;34m,\u001b[0m\u001b[0;36m0\u001b[0m\u001b[0;34m,\u001b[0m\u001b[0;36m1\u001b[0m\u001b[0;34m,\u001b[0m\u001b[0;36m0\u001b[0m\u001b[0;34m,\u001b[0m\u001b[0;36m1\u001b[0m\u001b[0;34m,\u001b[0m\u001b[0;36m0\u001b[0m\u001b[0;34m]\u001b[0m\u001b[0;34m)\u001b[0m\u001b[0;34m\u001b[0m\u001b[0;34m\u001b[0m\u001b[0m\n\u001b[1;32m      3\u001b[0m \u001b[0my\u001b[0m \u001b[0;34m=\u001b[0m \u001b[0mmx\u001b[0m\u001b[0;34m.\u001b[0m\u001b[0mnd\u001b[0m\u001b[0;34m.\u001b[0m\u001b[0marray\u001b[0m\u001b[0;34m(\u001b[0m\u001b[0;34m[\u001b[0m\u001b[0;36m1\u001b[0m\u001b[0;34m,\u001b[0m\u001b[0;36m0\u001b[0m\u001b[0;34m,\u001b[0m\u001b[0;36m1\u001b[0m\u001b[0;34m,\u001b[0m\u001b[0;36m0\u001b[0m\u001b[0;34m,\u001b[0m\u001b[0;36m1\u001b[0m\u001b[0;34m,\u001b[0m\u001b[0;36m0\u001b[0m\u001b[0;34m]\u001b[0m\u001b[0;34m)\u001b[0m\u001b[0;34m\u001b[0m\u001b[0;34m\u001b[0m\u001b[0m\n\u001b[0;32m----> 4\u001b[0;31m \u001b[0mctc_loss\u001b[0m\u001b[0;34m(\u001b[0m\u001b[0mx\u001b[0m\u001b[0;34m,\u001b[0m\u001b[0my\u001b[0m\u001b[0;34m)\u001b[0m\u001b[0;34m\u001b[0m\u001b[0;34m\u001b[0m\u001b[0m\n\u001b[0m",
            "\u001b[0;32m/usr/local/lib/python3.6/dist-packages/mxnet/symbol/register.py\u001b[0m in \u001b[0;36mctc_loss\u001b[0;34m(data, label, data_lengths, label_lengths, use_data_lengths, use_label_lengths, blank_label, name, attr, out, **kwargs)\u001b[0m\n",
            "\u001b[0;31mAssertionError\u001b[0m: Argument data must be Symbol instances, but got \n[1. 0. 1. 0. 1. 0.]\n<NDArray 6 @cpu(0)>"
          ]
        }
      ]
    },
    {
      "cell_type": "code",
      "metadata": {
        "id": "MxTwaHOCaCBW",
        "colab_type": "code",
        "outputId": "6b6748bb-155a-4daa-fd8f-9dbe763b0f07",
        "colab": {
          "base_uri": "https://localhost:8080/",
          "height": 70
        }
      },
      "source": [
        "\n",
        "# hybrid_forward(F, pred, positive, negative)\n",
        "#triplet_loss.hybrid_forward()\n",
        "from mxnet.gluon import nn, loss as gloss\n",
        "x = mx.nd.array([1,0,1,0,1,0])\n",
        "y = mx.nd.array([1,0,1,0,1,0])\n",
        "label = mx.nd.array(1)\n",
        "loss = gloss.CosineEmbeddingLoss()\n",
        "print(loss(x,y,label))"
      ],
      "execution_count": 0,
      "outputs": [
        {
          "output_type": "stream",
          "text": [
            "\n",
            "[[0.]]\n",
            "<NDArray 1x1 @cpu(0)>\n"
          ],
          "name": "stdout"
        }
      ]
    },
    {
      "cell_type": "markdown",
      "metadata": {
        "id": "kURZzO1RRPoW",
        "colab_type": "text"
      },
      "source": [
        "try plugging in this loss to gluonts\n"
      ]
    },
    {
      "cell_type": "code",
      "metadata": {
        "id": "lpab2MtkRTSG",
        "colab_type": "code",
        "colab": {}
      },
      "source": [
        ""
      ],
      "execution_count": 0,
      "outputs": []
    },
    {
      "cell_type": "code",
      "metadata": {
        "id": "hM_bSBgK3y5y",
        "colab_type": "code",
        "colab": {}
      },
      "source": [
        "import mxnet as mx\n",
        "import mxnet.ndarray as nd\n",
        "from mxnet import nd, autograd, gluon\n",
        "from mxnet.gluon.data.vision import transforms\n",
        "\n",
        "import numpy as np\n",
        "\n",
        "def train_model(model):\n",
        "  "
      ],
      "execution_count": 0,
      "outputs": []
    },
    {
      "cell_type": "code",
      "metadata": {
        "id": "RyXtmkIqRDyk",
        "colab_type": "code",
        "colab": {}
      },
      "source": [
        "\n",
        "# MNIST images are 28x28. Total pixels in input layer is 28x28 = 784\n",
        "num_inputs = 784\n",
        "# Clasify the images into one of the 10 digits\n",
        "num_outputs = 10\n",
        "# 64 images in a batch\n",
        "batch_size = 64\n",
        "\n",
        "# Load the training data\n",
        "train_data = gluon.data.DataLoader(gluon.data.vision.MNIST(train=True).transform_first(transforms.ToTensor()),\n",
        "                                   batch_size, shuffle=True)\n",
        "\n",
        "# Build a simple convolutional network\n",
        "def build_lenet(net):\n",
        "    with net.name_scope():\n",
        "        # First convolution\n",
        "        net.add(gluon.nn.Conv2D(channels=20, kernel_size=5, activation='relu'))\n",
        "        net.add(gluon.nn.MaxPool2D(pool_size=2, strides=2))\n",
        "        # Second convolution\n",
        "        net.add(gluon.nn.Conv2D(channels=50, kernel_size=5, activation='relu'))\n",
        "        net.add(gluon.nn.MaxPool2D(pool_size=2, strides=2))\n",
        "        # Flatten the output before the fully connected layers\n",
        "        net.add(gluon.nn.Flatten())\n",
        "        # First fully connected layers with 512 neurons\n",
        "        net.add(gluon.nn.Dense(512, activation=\"relu\"))\n",
        "        # Second fully connected layer with as many neurons as the number of classes\n",
        "        net.add(gluon.nn.Dense(num_outputs))\n",
        "\n",
        "        return net\n",
        "\n",
        "# Train a given model using MNIST data\n",
        "def train_model(model):\n",
        "    # Initialize the parameters with Xavier initializer\n",
        "    model.collect_params().initialize(mx.init.Xavier(), ctx=ctx)\n",
        "    # Use cross entropy loss\n",
        "    softmax_cross_entropy = gluon.loss.SoftmaxCrossEntropyLoss()\n",
        "    # Use Adam optimizer\n",
        "    trainer = gluon.Trainer(model.collect_params(), 'adam', {'learning_rate': .001})\n",
        "\n",
        "    # Train for one epoch\n",
        "    for epoch in range(1):\n",
        "        # Iterate through the images and labels in the training data\n",
        "        for batch_num, (data, label) in enumerate(train_data):\n",
        "            # get the images and labels\n",
        "            data = data.as_in_context(ctx)\n",
        "            label = label.as_in_context(ctx)\n",
        "            # Ask autograd to record the forward pass\n",
        "            with autograd.record():\n",
        "                # Run the forward pass\n",
        "                output = model(data)\n",
        "                # Compute the loss\n",
        "                loss = softmax_cross_entropy(output, label)\n",
        "            # Compute gradients\n",
        "            loss.backward()\n",
        "            # Update parameters\n",
        "            trainer.step(data.shape[0])\n",
        "\n",
        "            # Print loss once in a while\n",
        "            if batch_num % 50 == 0:\n",
        "                curr_loss = nd.mean(loss).asscalar()\n",
        "                print(\"Epoch: %d; Batch %d; Loss %f\" % (epoch, batch_num, curr_loss))"
      ],
      "execution_count": 0,
      "outputs": []
    }
  ]
}